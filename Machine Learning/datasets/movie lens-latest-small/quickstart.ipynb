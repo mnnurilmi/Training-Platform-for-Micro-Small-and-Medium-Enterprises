{
  "cells": [
    {
      "cell_type": "markdown",
      "metadata": {
        "id": "_dEaVsqSgNyQ"
      },
      "source": [
        "##### Copyright 2020 The TensorFlow Authors."
      ]
    },
    {
      "cell_type": "code",
      "execution_count": null,
      "metadata": {
        "cellView": "form",
        "id": "4FyfuZX-gTKS"
      },
      "outputs": [],
      "source": [
        "#@title Licensed under the Apache License, Version 2.0 (the \"License\");\n",
        "# you may not use this file except in compliance with the License.\n",
        "# You may obtain a copy of the License at\n",
        "#\n",
        "# https://www.apache.org/licenses/LICENSE-2.0\n",
        "#\n",
        "# Unless required by applicable law or agreed to in writing, software\n",
        "# distributed under the License is distributed on an \"AS IS\" BASIS,\n",
        "# WITHOUT WARRANTIES OR CONDITIONS OF ANY KIND, either express or implied.\n",
        "# See the License for the specific language governing permissions and\n",
        "# limitations under the License."
      ]
    },
    {
      "cell_type": "markdown",
      "metadata": {
        "id": "sT8AyHRMNh41"
      },
      "source": [
        "# TensorFlow Recommenders: Quickstart\n",
        "\n",
        "<table class=\"tfo-notebook-buttons\" align=\"left\">\n",
        "  <td>\n",
        "    <a target=\"_blank\" href=\"https://www.tensorflow.org/recommenders/quickstart\"><img src=\"https://www.tensorflow.org/images/tf_logo_32px.png\" />View on TensorFlow.org</a>\n",
        "  </td>\n",
        "  <td>\n",
        "    <a target=\"_blank\" href=\"https://colab.research.google.com/github/tensorflow/recommenders/blob/main/docs/examples/quickstart.ipynb\"><img src=\"https://www.tensorflow.org/images/colab_logo_32px.png\" />Run in Google Colab</a>\n",
        "  </td>\n",
        "  <td>\n",
        "    <a target=\"_blank\" href=\"https://github.com/tensorflow/recommenders/blob/main/docs/examples/quickstart.ipynb\"><img src=\"https://www.tensorflow.org/images/GitHub-Mark-32px.png\" />View source on GitHub</a>\n",
        "  </td>\n",
        "  <td>\n",
        "    <a href=\"https://storage.googleapis.com/tensorflow_docs/recommenders/docs/examples/quickstart.ipynb\"><img src=\"https://www.tensorflow.org/images/download_logo_32px.png\" />Download notebook</a>\n",
        "  </td>\n",
        "</table>"
      ]
    },
    {
      "cell_type": "markdown",
      "metadata": {
        "id": "8f-reQ11gbLB"
      },
      "source": [
        "In this tutorial, we build a simple matrix factorization model using the [MovieLens 100K dataset](https://grouplens.org/datasets/movielens/100k/) with TFRS. We can use this model to recommend movies for a given user."
      ]
    },
    {
      "cell_type": "markdown",
      "metadata": {
        "id": "qA00wBE2Ntdm"
      },
      "source": [
        "### Import TFRS\n",
        "\n",
        "First, install and import TFRS:"
      ]
    },
    {
      "cell_type": "code",
      "execution_count": 1,
      "metadata": {
        "id": "6yzAaM85Z12D"
      },
      "outputs": [],
      "source": [
        "!pip install -q tensorflow-recommenders\n",
        "!pip install -q --upgrade tensorflow-datasets"
      ]
    },
    {
      "cell_type": "code",
      "execution_count": 21,
      "metadata": {
        "id": "n3oYt3R6Nr9l"
      },
      "outputs": [],
      "source": [
        "from typing import Dict, Text\n",
        "\n",
        "import numpy as np\n",
        "import tensorflow as tf\n",
        "\n",
        "import tensorflow_datasets as tfds\n",
        "import tensorflow_recommenders as tfrs"
      ]
    },
    {
      "cell_type": "code",
      "execution_count": 55,
      "metadata": {},
      "outputs": [
        {
          "name": "stdout",
          "output_type": "stream",
          "text": [
            "<bound method DatasetV2.as_numpy_iterator of <PrefetchDataset element_spec=TensorSpec(shape=(), dtype=tf.int64, name=None)>>\n"
          ]
        }
      ],
      "source": [
        "dataset = tf.data.Dataset.range(3)\n",
        "dataset = dataset.prefetch(2)\n",
        "\n",
        "print(dataset."
      ]
    },
    {
      "cell_type": "markdown",
      "metadata": {
        "id": "zCxQ1CZcO2wh"
      },
      "source": [
        "### Read the data"
      ]
    },
    {
      "cell_type": "code",
      "execution_count": 29,
      "metadata": {
        "id": "M-mxBYjdO5m7"
      },
      "outputs": [
        {
          "name": "stdout",
          "output_type": "stream",
          "text": [
            "<PrefetchDataset element_spec={'bucketized_user_age': TensorSpec(shape=(), dtype=tf.float32, name=None), 'movie_genres': TensorSpec(shape=(None,), dtype=tf.int64, name=None), 'movie_id': TensorSpec(shape=(), dtype=tf.string, name=None), 'movie_title': TensorSpec(shape=(), dtype=tf.string, name=None), 'raw_user_age': TensorSpec(shape=(), dtype=tf.float32, name=None), 'timestamp': TensorSpec(shape=(), dtype=tf.int64, name=None), 'user_gender': TensorSpec(shape=(), dtype=tf.bool, name=None), 'user_id': TensorSpec(shape=(), dtype=tf.string, name=None), 'user_occupation_label': TensorSpec(shape=(), dtype=tf.int64, name=None), 'user_occupation_text': TensorSpec(shape=(), dtype=tf.string, name=None), 'user_rating': TensorSpec(shape=(), dtype=tf.float32, name=None), 'user_zip_code': TensorSpec(shape=(), dtype=tf.string, name=None)}>\n",
            "{'bucketized_user_age': <tf.Tensor: shape=(), dtype=float32, numpy=45.0>, 'movie_genres': <tf.Tensor: shape=(1,), dtype=int64, numpy=array([7], dtype=int64)>, 'movie_id': <tf.Tensor: shape=(), dtype=string, numpy=b'357'>, 'movie_title': <tf.Tensor: shape=(), dtype=string, numpy=b\"One Flew Over the Cuckoo's Nest (1975)\">, 'raw_user_age': <tf.Tensor: shape=(), dtype=float32, numpy=46.0>, 'timestamp': <tf.Tensor: shape=(), dtype=int64, numpy=879024327>, 'user_gender': <tf.Tensor: shape=(), dtype=bool, numpy=True>, 'user_id': <tf.Tensor: shape=(), dtype=string, numpy=b'138'>, 'user_occupation_label': <tf.Tensor: shape=(), dtype=int64, numpy=4>, 'user_occupation_text': <tf.Tensor: shape=(), dtype=string, numpy=b'doctor'>, 'user_rating': <tf.Tensor: shape=(), dtype=float32, numpy=4.0>, 'user_zip_code': <tf.Tensor: shape=(), dtype=string, numpy=b'53211'>}\n",
            "{'bucketized_user_age': <tf.Tensor: shape=(), dtype=float32, numpy=25.0>, 'movie_genres': <tf.Tensor: shape=(2,), dtype=int64, numpy=array([ 4, 14], dtype=int64)>, 'movie_id': <tf.Tensor: shape=(), dtype=string, numpy=b'709'>, 'movie_title': <tf.Tensor: shape=(), dtype=string, numpy=b'Strictly Ballroom (1992)'>, 'raw_user_age': <tf.Tensor: shape=(), dtype=float32, numpy=32.0>, 'timestamp': <tf.Tensor: shape=(), dtype=int64, numpy=875654590>, 'user_gender': <tf.Tensor: shape=(), dtype=bool, numpy=True>, 'user_id': <tf.Tensor: shape=(), dtype=string, numpy=b'92'>, 'user_occupation_label': <tf.Tensor: shape=(), dtype=int64, numpy=5>, 'user_occupation_text': <tf.Tensor: shape=(), dtype=string, numpy=b'entertainment'>, 'user_rating': <tf.Tensor: shape=(), dtype=float32, numpy=2.0>, 'user_zip_code': <tf.Tensor: shape=(), dtype=string, numpy=b'80525'>}\n",
            "{'bucketized_user_age': <tf.Tensor: shape=(), dtype=float32, numpy=18.0>, 'movie_genres': <tf.Tensor: shape=(1,), dtype=int64, numpy=array([4], dtype=int64)>, 'movie_id': <tf.Tensor: shape=(), dtype=string, numpy=b'412'>, 'movie_title': <tf.Tensor: shape=(), dtype=string, numpy=b'Very Brady Sequel, A (1996)'>, 'raw_user_age': <tf.Tensor: shape=(), dtype=float32, numpy=24.0>, 'timestamp': <tf.Tensor: shape=(), dtype=int64, numpy=882075110>, 'user_gender': <tf.Tensor: shape=(), dtype=bool, numpy=True>, 'user_id': <tf.Tensor: shape=(), dtype=string, numpy=b'301'>, 'user_occupation_label': <tf.Tensor: shape=(), dtype=int64, numpy=17>, 'user_occupation_text': <tf.Tensor: shape=(), dtype=string, numpy=b'student'>, 'user_rating': <tf.Tensor: shape=(), dtype=float32, numpy=4.0>, 'user_zip_code': <tf.Tensor: shape=(), dtype=string, numpy=b'55439'>}\n"
          ]
        }
      ],
      "source": [
        "# Ratings data.\n",
        "ratings = tfds.load('movielens/100k-ratings', split=\"train\")\n",
        "print((ratings))\n",
        "\n",
        "count = 0\n",
        "for i in ratings:\n",
        "    print(i)\n",
        "    count+=1\n",
        "    if count == 3:\n",
        "        break\n",
        "# Features of all the available movies.\n",
        "movies = tfds.load('movielens/100k-movies', split=\"train\")\n",
        "\n",
        "# Select the basic features.\n",
        "ratings = ratings.map(lambda x: {\n",
        "    \"movie_title\": x[\"movie_title\"],\n",
        "    \"user_id\": x[\"user_id\"]\n",
        "})\n",
        "movies = movies.map(lambda x: x[\"movie_title\"])"
      ]
    },
    {
      "cell_type": "code",
      "execution_count": 25,
      "metadata": {},
      "outputs": [
        {
          "name": "stdout",
          "output_type": "stream",
          "text": [
            "<class 'tensorflow.python.data.ops.dataset_ops.PrefetchDataset'>\n",
            "{'bucketized_user_age': <tf.Tensor: shape=(), dtype=float32, numpy=45.0>, 'movie_genres': <tf.Tensor: shape=(1,), dtype=int64, numpy=array([7], dtype=int64)>, 'movie_id': <tf.Tensor: shape=(), dtype=string, numpy=b'357'>, 'movie_title': <tf.Tensor: shape=(), dtype=string, numpy=b\"One Flew Over the Cuckoo's Nest (1975)\">, 'raw_user_age': <tf.Tensor: shape=(), dtype=float32, numpy=46.0>, 'timestamp': <tf.Tensor: shape=(), dtype=int64, numpy=879024327>, 'user_gender': <tf.Tensor: shape=(), dtype=bool, numpy=True>, 'user_id': <tf.Tensor: shape=(), dtype=string, numpy=b'138'>, 'user_occupation_label': <tf.Tensor: shape=(), dtype=int64, numpy=4>, 'user_occupation_text': <tf.Tensor: shape=(), dtype=string, numpy=b'doctor'>, 'user_rating': <tf.Tensor: shape=(), dtype=float32, numpy=4.0>, 'user_zip_code': <tf.Tensor: shape=(), dtype=string, numpy=b'53211'>}\n",
            "{'bucketized_user_age': <tf.Tensor: shape=(), dtype=float32, numpy=25.0>, 'movie_genres': <tf.Tensor: shape=(2,), dtype=int64, numpy=array([ 4, 14], dtype=int64)>, 'movie_id': <tf.Tensor: shape=(), dtype=string, numpy=b'709'>, 'movie_title': <tf.Tensor: shape=(), dtype=string, numpy=b'Strictly Ballroom (1992)'>, 'raw_user_age': <tf.Tensor: shape=(), dtype=float32, numpy=32.0>, 'timestamp': <tf.Tensor: shape=(), dtype=int64, numpy=875654590>, 'user_gender': <tf.Tensor: shape=(), dtype=bool, numpy=True>, 'user_id': <tf.Tensor: shape=(), dtype=string, numpy=b'92'>, 'user_occupation_label': <tf.Tensor: shape=(), dtype=int64, numpy=5>, 'user_occupation_text': <tf.Tensor: shape=(), dtype=string, numpy=b'entertainment'>, 'user_rating': <tf.Tensor: shape=(), dtype=float32, numpy=2.0>, 'user_zip_code': <tf.Tensor: shape=(), dtype=string, numpy=b'80525'>}\n",
            "{'bucketized_user_age': <tf.Tensor: shape=(), dtype=float32, numpy=18.0>, 'movie_genres': <tf.Tensor: shape=(1,), dtype=int64, numpy=array([4], dtype=int64)>, 'movie_id': <tf.Tensor: shape=(), dtype=string, numpy=b'412'>, 'movie_title': <tf.Tensor: shape=(), dtype=string, numpy=b'Very Brady Sequel, A (1996)'>, 'raw_user_age': <tf.Tensor: shape=(), dtype=float32, numpy=24.0>, 'timestamp': <tf.Tensor: shape=(), dtype=int64, numpy=882075110>, 'user_gender': <tf.Tensor: shape=(), dtype=bool, numpy=True>, 'user_id': <tf.Tensor: shape=(), dtype=string, numpy=b'301'>, 'user_occupation_label': <tf.Tensor: shape=(), dtype=int64, numpy=17>, 'user_occupation_text': <tf.Tensor: shape=(), dtype=string, numpy=b'student'>, 'user_rating': <tf.Tensor: shape=(), dtype=float32, numpy=4.0>, 'user_zip_code': <tf.Tensor: shape=(), dtype=string, numpy=b'55439'>}\n",
            "{'bucketized_user_age': <tf.Tensor: shape=(), dtype=float32, numpy=50.0>, 'movie_genres': <tf.Tensor: shape=(2,), dtype=int64, numpy=array([5, 7], dtype=int64)>, 'movie_id': <tf.Tensor: shape=(), dtype=string, numpy=b'56'>, 'movie_title': <tf.Tensor: shape=(), dtype=string, numpy=b'Pulp Fiction (1994)'>, 'raw_user_age': <tf.Tensor: shape=(), dtype=float32, numpy=50.0>, 'timestamp': <tf.Tensor: shape=(), dtype=int64, numpy=883326919>, 'user_gender': <tf.Tensor: shape=(), dtype=bool, numpy=True>, 'user_id': <tf.Tensor: shape=(), dtype=string, numpy=b'60'>, 'user_occupation_label': <tf.Tensor: shape=(), dtype=int64, numpy=4>, 'user_occupation_text': <tf.Tensor: shape=(), dtype=string, numpy=b'healthcare'>, 'user_rating': <tf.Tensor: shape=(), dtype=float32, numpy=4.0>, 'user_zip_code': <tf.Tensor: shape=(), dtype=string, numpy=b'06472'>}\n",
            "{'bucketized_user_age': <tf.Tensor: shape=(), dtype=float32, numpy=50.0>, 'movie_genres': <tf.Tensor: shape=(2,), dtype=int64, numpy=array([10, 16], dtype=int64)>, 'movie_id': <tf.Tensor: shape=(), dtype=string, numpy=b'895'>, 'movie_title': <tf.Tensor: shape=(), dtype=string, numpy=b'Scream 2 (1997)'>, 'raw_user_age': <tf.Tensor: shape=(), dtype=float32, numpy=55.0>, 'timestamp': <tf.Tensor: shape=(), dtype=int64, numpy=891409199>, 'user_gender': <tf.Tensor: shape=(), dtype=bool, numpy=True>, 'user_id': <tf.Tensor: shape=(), dtype=string, numpy=b'197'>, 'user_occupation_label': <tf.Tensor: shape=(), dtype=int64, numpy=18>, 'user_occupation_text': <tf.Tensor: shape=(), dtype=string, numpy=b'technician'>, 'user_rating': <tf.Tensor: shape=(), dtype=float32, numpy=3.0>, 'user_zip_code': <tf.Tensor: shape=(), dtype=string, numpy=b'75094'>}\n",
            "{'bucketized_user_age': <tf.Tensor: shape=(), dtype=float32, numpy=18.0>, 'movie_genres': <tf.Tensor: shape=(2,), dtype=int64, numpy=array([ 7, 16], dtype=int64)>, 'movie_id': <tf.Tensor: shape=(), dtype=string, numpy=b'325'>, 'movie_title': <tf.Tensor: shape=(), dtype=string, numpy=b'Crash (1996)'>, 'raw_user_age': <tf.Tensor: shape=(), dtype=float32, numpy=19.0>, 'timestamp': <tf.Tensor: shape=(), dtype=int64, numpy=876346551>, 'user_gender': <tf.Tensor: shape=(), dtype=bool, numpy=False>, 'user_id': <tf.Tensor: shape=(), dtype=string, numpy=b'601'>, 'user_occupation_label': <tf.Tensor: shape=(), dtype=int64, numpy=1>, 'user_occupation_text': <tf.Tensor: shape=(), dtype=string, numpy=b'artist'>, 'user_rating': <tf.Tensor: shape=(), dtype=float32, numpy=4.0>, 'user_zip_code': <tf.Tensor: shape=(), dtype=string, numpy=b'99687'>}\n",
            "{'bucketized_user_age': <tf.Tensor: shape=(), dtype=float32, numpy=18.0>, 'movie_genres': <tf.Tensor: shape=(4,), dtype=int64, numpy=array([ 2,  3,  4, 12], dtype=int64)>, 'movie_id': <tf.Tensor: shape=(), dtype=string, numpy=b'95'>, 'movie_title': <tf.Tensor: shape=(), dtype=string, numpy=b'Aladdin (1992)'>, 'raw_user_age': <tf.Tensor: shape=(), dtype=float32, numpy=19.0>, 'timestamp': <tf.Tensor: shape=(), dtype=int64, numpy=882064434>, 'user_gender': <tf.Tensor: shape=(), dtype=bool, numpy=True>, 'user_id': <tf.Tensor: shape=(), dtype=string, numpy=b'710'>, 'user_occupation_label': <tf.Tensor: shape=(), dtype=int64, numpy=17>, 'user_occupation_text': <tf.Tensor: shape=(), dtype=string, numpy=b'student'>, 'user_rating': <tf.Tensor: shape=(), dtype=float32, numpy=3.0>, 'user_zip_code': <tf.Tensor: shape=(), dtype=string, numpy=b'92020'>}\n",
            "{'bucketized_user_age': <tf.Tensor: shape=(), dtype=float32, numpy=25.0>, 'movie_genres': <tf.Tensor: shape=(3,), dtype=int64, numpy=array([ 0,  5, 14], dtype=int64)>, 'movie_id': <tf.Tensor: shape=(), dtype=string, numpy=b'92'>, 'movie_title': <tf.Tensor: shape=(), dtype=string, numpy=b'True Romance (1993)'>, 'raw_user_age': <tf.Tensor: shape=(), dtype=float32, numpy=34.0>, 'timestamp': <tf.Tensor: shape=(), dtype=int64, numpy=875135363>, 'user_gender': <tf.Tensor: shape=(), dtype=bool, numpy=True>, 'user_id': <tf.Tensor: shape=(), dtype=string, numpy=b'833'>, 'user_occupation_label': <tf.Tensor: shape=(), dtype=int64, numpy=21>, 'user_occupation_text': <tf.Tensor: shape=(), dtype=string, numpy=b'writer'>, 'user_rating': <tf.Tensor: shape=(), dtype=float32, numpy=2.0>, 'user_zip_code': <tf.Tensor: shape=(), dtype=string, numpy=b'90019'>}\n",
            "{'bucketized_user_age': <tf.Tensor: shape=(), dtype=float32, numpy=25.0>, 'movie_genres': <tf.Tensor: shape=(1,), dtype=int64, numpy=array([4], dtype=int64)>, 'movie_id': <tf.Tensor: shape=(), dtype=string, numpy=b'425'>, 'movie_title': <tf.Tensor: shape=(), dtype=string, numpy=b'Bob Roberts (1992)'>, 'raw_user_age': <tf.Tensor: shape=(), dtype=float32, numpy=27.0>, 'timestamp': <tf.Tensor: shape=(), dtype=int64, numpy=880844102>, 'user_gender': <tf.Tensor: shape=(), dtype=bool, numpy=True>, 'user_id': <tf.Tensor: shape=(), dtype=string, numpy=b'916'>, 'user_occupation_label': <tf.Tensor: shape=(), dtype=int64, numpy=18>, 'user_occupation_text': <tf.Tensor: shape=(), dtype=string, numpy=b'engineer'>, 'user_rating': <tf.Tensor: shape=(), dtype=float32, numpy=5.0>, 'user_zip_code': <tf.Tensor: shape=(), dtype=string, numpy=b'N2L5N'>}\n",
            "{'bucketized_user_age': <tf.Tensor: shape=(), dtype=float32, numpy=25.0>, 'movie_genres': <tf.Tensor: shape=(4,), dtype=int64, numpy=array([ 0,  1, 15, 18], dtype=int64)>, 'movie_id': <tf.Tensor: shape=(), dtype=string, numpy=b'271'>, 'movie_title': <tf.Tensor: shape=(), dtype=string, numpy=b'Starship Troopers (1997)'>, 'raw_user_age': <tf.Tensor: shape=(), dtype=float32, numpy=32.0>, 'timestamp': <tf.Tensor: shape=(), dtype=int64, numpy=884801053>, 'user_gender': <tf.Tensor: shape=(), dtype=bool, numpy=True>, 'user_id': <tf.Tensor: shape=(), dtype=string, numpy=b'940'>, 'user_occupation_label': <tf.Tensor: shape=(), dtype=int64, numpy=2>, 'user_occupation_text': <tf.Tensor: shape=(), dtype=string, numpy=b'administrator'>, 'user_rating': <tf.Tensor: shape=(), dtype=float32, numpy=2.0>, 'user_zip_code': <tf.Tensor: shape=(), dtype=string, numpy=b'02215'>}\n",
            "{'bucketized_user_age': <tf.Tensor: shape=(), dtype=float32, numpy=45.0>, 'movie_genres': <tf.Tensor: shape=(3,), dtype=int64, numpy=array([ 1, 15, 16], dtype=int64)>, 'movie_id': <tf.Tensor: shape=(), dtype=string, numpy=b'355'>, 'movie_title': <tf.Tensor: shape=(), dtype=string, numpy=b'Sphere (1998)'>, 'raw_user_age': <tf.Tensor: shape=(), dtype=float32, numpy=46.0>, 'timestamp': <tf.Tensor: shape=(), dtype=int64, numpy=891636399>, 'user_gender': <tf.Tensor: shape=(), dtype=bool, numpy=True>, 'user_id': <tf.Tensor: shape=(), dtype=string, numpy=b'611'>, 'user_occupation_label': <tf.Tensor: shape=(), dtype=int64, numpy=10>, 'user_occupation_text': <tf.Tensor: shape=(), dtype=string, numpy=b'librarian'>, 'user_rating': <tf.Tensor: shape=(), dtype=float32, numpy=1.0>, 'user_zip_code': <tf.Tensor: shape=(), dtype=string, numpy=b'77008'>}\n",
            "{'bucketized_user_age': <tf.Tensor: shape=(), dtype=float32, numpy=56.0>, 'movie_genres': <tf.Tensor: shape=(2,), dtype=int64, numpy=array([4, 7], dtype=int64)>, 'movie_id': <tf.Tensor: shape=(), dtype=string, numpy=b'712'>, 'movie_title': <tf.Tensor: shape=(), dtype=string, numpy=b'Tin Men (1987)'>, 'raw_user_age': <tf.Tensor: shape=(), dtype=float32, numpy=56.0>, 'timestamp': <tf.Tensor: shape=(), dtype=int64, numpy=886288624>, 'user_gender': <tf.Tensor: shape=(), dtype=bool, numpy=False>, 'user_id': <tf.Tensor: shape=(), dtype=string, numpy=b'707'>, 'user_occupation_label': <tf.Tensor: shape=(), dtype=int64, numpy=10>, 'user_occupation_text': <tf.Tensor: shape=(), dtype=string, numpy=b'librarian'>, 'user_rating': <tf.Tensor: shape=(), dtype=float32, numpy=3.0>, 'user_zip_code': <tf.Tensor: shape=(), dtype=string, numpy=b'19146'>}\n",
            "{'bucketized_user_age': <tf.Tensor: shape=(), dtype=float32, numpy=35.0>, 'movie_genres': <tf.Tensor: shape=(3,), dtype=int64, numpy=array([ 0, 15, 16], dtype=int64)>, 'movie_id': <tf.Tensor: shape=(), dtype=string, numpy=b'825'>, 'movie_title': <tf.Tensor: shape=(), dtype=string, numpy=b'Arrival, The (1996)'>, 'raw_user_age': <tf.Tensor: shape=(), dtype=float32, numpy=44.0>, 'timestamp': <tf.Tensor: shape=(), dtype=int64, numpy=879147917>, 'user_gender': <tf.Tensor: shape=(), dtype=bool, numpy=True>, 'user_id': <tf.Tensor: shape=(), dtype=string, numpy=b'699'>, 'user_occupation_label': <tf.Tensor: shape=(), dtype=int64, numpy=11>, 'user_occupation_text': <tf.Tensor: shape=(), dtype=string, numpy=b'other'>, 'user_rating': <tf.Tensor: shape=(), dtype=float32, numpy=3.0>, 'user_zip_code': <tf.Tensor: shape=(), dtype=string, numpy=b'96754'>}\n",
            "{'bucketized_user_age': <tf.Tensor: shape=(), dtype=float32, numpy=18.0>, 'movie_genres': <tf.Tensor: shape=(2,), dtype=int64, numpy=array([2, 4], dtype=int64)>, 'movie_id': <tf.Tensor: shape=(), dtype=string, numpy=b'240'>, 'movie_title': <tf.Tensor: shape=(), dtype=string, numpy=b'Beavis and Butt-head Do America (1996)'>, 'raw_user_age': <tf.Tensor: shape=(), dtype=float32, numpy=21.0>, 'timestamp': <tf.Tensor: shape=(), dtype=int64, numpy=877724603>, 'user_gender': <tf.Tensor: shape=(), dtype=bool, numpy=True>, 'user_id': <tf.Tensor: shape=(), dtype=string, numpy=b'16'>, 'user_occupation_label': <tf.Tensor: shape=(), dtype=int64, numpy=5>, 'user_occupation_text': <tf.Tensor: shape=(), dtype=string, numpy=b'entertainment'>, 'user_rating': <tf.Tensor: shape=(), dtype=float32, numpy=4.0>, 'user_zip_code': <tf.Tensor: shape=(), dtype=string, numpy=b'10309'>}\n",
            "{'bucketized_user_age': <tf.Tensor: shape=(), dtype=float32, numpy=18.0>, 'movie_genres': <tf.Tensor: shape=(1,), dtype=int64, numpy=array([7], dtype=int64)>, 'movie_id': <tf.Tensor: shape=(), dtype=string, numpy=b'1150'>, 'movie_title': <tf.Tensor: shape=(), dtype=string, numpy=b'Last Dance (1996)'>, 'raw_user_age': <tf.Tensor: shape=(), dtype=float32, numpy=20.0>, 'timestamp': <tf.Tensor: shape=(), dtype=int64, numpy=877887002>, 'user_gender': <tf.Tensor: shape=(), dtype=bool, numpy=False>, 'user_id': <tf.Tensor: shape=(), dtype=string, numpy=b'314'>, 'user_occupation_label': <tf.Tensor: shape=(), dtype=int64, numpy=17>, 'user_occupation_text': <tf.Tensor: shape=(), dtype=string, numpy=b'student'>, 'user_rating': <tf.Tensor: shape=(), dtype=float32, numpy=4.0>, 'user_zip_code': <tf.Tensor: shape=(), dtype=string, numpy=b'08043'>}\n",
            "{'bucketized_user_age': <tf.Tensor: shape=(), dtype=float32, numpy=18.0>, 'movie_genres': <tf.Tensor: shape=(2,), dtype=int64, numpy=array([ 0, 16], dtype=int64)>, 'movie_id': <tf.Tensor: shape=(), dtype=string, numpy=b'684'>, 'movie_title': <tf.Tensor: shape=(), dtype=string, numpy=b'In the Line of Fire (1993)'>, 'raw_user_age': <tf.Tensor: shape=(), dtype=float32, numpy=22.0>, 'timestamp': <tf.Tensor: shape=(), dtype=int64, numpy=889069782>, 'user_gender': <tf.Tensor: shape=(), dtype=bool, numpy=True>, 'user_id': <tf.Tensor: shape=(), dtype=string, numpy=b'217'>, 'user_occupation_label': <tf.Tensor: shape=(), dtype=int64, numpy=11>, 'user_occupation_text': <tf.Tensor: shape=(), dtype=string, numpy=b'other'>, 'user_rating': <tf.Tensor: shape=(), dtype=float32, numpy=5.0>, 'user_zip_code': <tf.Tensor: shape=(), dtype=string, numpy=b'11727'>}\n",
            "{'bucketized_user_age': <tf.Tensor: shape=(), dtype=float32, numpy=18.0>, 'movie_genres': <tf.Tensor: shape=(2,), dtype=int64, numpy=array([ 7, 13], dtype=int64)>, 'movie_id': <tf.Tensor: shape=(), dtype=string, numpy=b'124'>, 'movie_title': <tf.Tensor: shape=(), dtype=string, numpy=b'Lone Star (1996)'>, 'raw_user_age': <tf.Tensor: shape=(), dtype=float32, numpy=21.0>, 'timestamp': <tf.Tensor: shape=(), dtype=int64, numpy=880913800>, 'user_gender': <tf.Tensor: shape=(), dtype=bool, numpy=True>, 'user_id': <tf.Tensor: shape=(), dtype=string, numpy=b'276'>, 'user_occupation_label': <tf.Tensor: shape=(), dtype=int64, numpy=17>, 'user_occupation_text': <tf.Tensor: shape=(), dtype=string, numpy=b'student'>, 'user_rating': <tf.Tensor: shape=(), dtype=float32, numpy=5.0>, 'user_zip_code': <tf.Tensor: shape=(), dtype=string, numpy=b'95064'>}\n",
            "{'bucketized_user_age': <tf.Tensor: shape=(), dtype=float32, numpy=25.0>, 'movie_genres': <tf.Tensor: shape=(1,), dtype=int64, numpy=array([4], dtype=int64)>, 'movie_id': <tf.Tensor: shape=(), dtype=string, numpy=b'294'>, 'movie_title': <tf.Tensor: shape=(), dtype=string, numpy=b'Liar Liar (1997)'>, 'raw_user_age': <tf.Tensor: shape=(), dtype=float32, numpy=34.0>, 'timestamp': <tf.Tensor: shape=(), dtype=int64, numpy=887667681>, 'user_gender': <tf.Tensor: shape=(), dtype=bool, numpy=True>, 'user_id': <tf.Tensor: shape=(), dtype=string, numpy=b'510'>, 'user_occupation_label': <tf.Tensor: shape=(), dtype=int64, numpy=11>, 'user_occupation_text': <tf.Tensor: shape=(), dtype=string, numpy=b'other'>, 'user_rating': <tf.Tensor: shape=(), dtype=float32, numpy=3.0>, 'user_zip_code': <tf.Tensor: shape=(), dtype=string, numpy=b'98038'>}\n",
            "{'bucketized_user_age': <tf.Tensor: shape=(), dtype=float32, numpy=25.0>, 'movie_genres': <tf.Tensor: shape=(2,), dtype=int64, numpy=array([ 0, 16], dtype=int64)>, 'movie_id': <tf.Tensor: shape=(), dtype=string, numpy=b'265'>, 'movie_title': <tf.Tensor: shape=(), dtype=string, numpy=b'Hunt for Red October, The (1990)'>, 'raw_user_age': <tf.Tensor: shape=(), dtype=float32, numpy=26.0>, 'timestamp': <tf.Tensor: shape=(), dtype=int64, numpy=888466614>, 'user_gender': <tf.Tensor: shape=(), dtype=bool, numpy=True>, 'user_id': <tf.Tensor: shape=(), dtype=string, numpy=b'757'>, 'user_occupation_label': <tf.Tensor: shape=(), dtype=int64, numpy=17>, 'user_occupation_text': <tf.Tensor: shape=(), dtype=string, numpy=b'student'>, 'user_rating': <tf.Tensor: shape=(), dtype=float32, numpy=3.0>, 'user_zip_code': <tf.Tensor: shape=(), dtype=string, numpy=b'55104'>}\n",
            "{'bucketized_user_age': <tf.Tensor: shape=(), dtype=float32, numpy=35.0>, 'movie_genres': <tf.Tensor: shape=(3,), dtype=int64, numpy=array([ 1,  3, 14], dtype=int64)>, 'movie_id': <tf.Tensor: shape=(), dtype=string, numpy=b'465'>, 'movie_title': <tf.Tensor: shape=(), dtype=string, numpy=b'Jungle Book, The (1994)'>, 'raw_user_age': <tf.Tensor: shape=(), dtype=float32, numpy=39.0>, 'timestamp': <tf.Tensor: shape=(), dtype=int64, numpy=876538595>, 'user_gender': <tf.Tensor: shape=(), dtype=bool, numpy=True>, 'user_id': <tf.Tensor: shape=(), dtype=string, numpy=b'881'>, 'user_occupation_label': <tf.Tensor: shape=(), dtype=int64, numpy=14>, 'user_occupation_text': <tf.Tensor: shape=(), dtype=string, numpy=b'marketing'>, 'user_rating': <tf.Tensor: shape=(), dtype=float32, numpy=3.0>, 'user_zip_code': <tf.Tensor: shape=(), dtype=string, numpy=b'43017'>}\n",
            "{'bucketized_user_age': <tf.Tensor: shape=(), dtype=float32, numpy=1.0>, 'movie_genres': <tf.Tensor: shape=(3,), dtype=int64, numpy=array([ 5,  9, 16], dtype=int64)>, 'movie_id': <tf.Tensor: shape=(), dtype=string, numpy=b'823'>, 'movie_title': <tf.Tensor: shape=(), dtype=string, numpy=b'Mulholland Falls (1996)'>, 'raw_user_age': <tf.Tensor: shape=(), dtype=float32, numpy=13.0>, 'timestamp': <tf.Tensor: shape=(), dtype=int64, numpy=880167435>, 'user_gender': <tf.Tensor: shape=(), dtype=bool, numpy=True>, 'user_id': <tf.Tensor: shape=(), dtype=string, numpy=b'880'>, 'user_occupation_label': <tf.Tensor: shape=(), dtype=int64, numpy=17>, 'user_occupation_text': <tf.Tensor: shape=(), dtype=string, numpy=b'student'>, 'user_rating': <tf.Tensor: shape=(), dtype=float32, numpy=3.0>, 'user_zip_code': <tf.Tensor: shape=(), dtype=string, numpy=b'83702'>}\n",
            "{'bucketized_user_age': <tf.Tensor: shape=(), dtype=float32, numpy=35.0>, 'movie_genres': <tf.Tensor: shape=(2,), dtype=int64, numpy=array([3, 4], dtype=int64)>, 'movie_id': <tf.Tensor: shape=(), dtype=string, numpy=b'243'>, 'movie_title': <tf.Tensor: shape=(), dtype=string, numpy=b'Jungle2Jungle (1997)'>, 'raw_user_age': <tf.Tensor: shape=(), dtype=float32, numpy=44.0>, 'timestamp': <tf.Tensor: shape=(), dtype=int64, numpy=879439104>, 'user_gender': <tf.Tensor: shape=(), dtype=bool, numpy=False>, 'user_id': <tf.Tensor: shape=(), dtype=string, numpy=b'797'>, 'user_occupation_label': <tf.Tensor: shape=(), dtype=int64, numpy=11>, 'user_occupation_text': <tf.Tensor: shape=(), dtype=string, numpy=b'other'>, 'user_rating': <tf.Tensor: shape=(), dtype=float32, numpy=2.0>, 'user_zip_code': <tf.Tensor: shape=(), dtype=string, numpy=b'62522'>}\n",
            "{'bucketized_user_age': <tf.Tensor: shape=(), dtype=float32, numpy=35.0>, 'movie_genres': <tf.Tensor: shape=(1,), dtype=int64, numpy=array([7], dtype=int64)>, 'movie_id': <tf.Tensor: shape=(), dtype=string, numpy=b'392'>, 'movie_title': <tf.Tensor: shape=(), dtype=string, numpy=b'Man Without a Face, The (1993)'>, 'raw_user_age': <tf.Tensor: shape=(), dtype=float32, numpy=42.0>, 'timestamp': <tf.Tensor: shape=(), dtype=int64, numpy=875073408>, 'user_gender': <tf.Tensor: shape=(), dtype=bool, numpy=True>, 'user_id': <tf.Tensor: shape=(), dtype=string, numpy=b'188'>, 'user_occupation_label': <tf.Tensor: shape=(), dtype=int64, numpy=17>, 'user_occupation_text': <tf.Tensor: shape=(), dtype=string, numpy=b'student'>, 'user_rating': <tf.Tensor: shape=(), dtype=float32, numpy=5.0>, 'user_zip_code': <tf.Tensor: shape=(), dtype=string, numpy=b'29440'>}\n",
            "{'bucketized_user_age': <tf.Tensor: shape=(), dtype=float32, numpy=18.0>, 'movie_genres': <tf.Tensor: shape=(2,), dtype=int64, numpy=array([ 4, 14], dtype=int64)>, 'movie_id': <tf.Tensor: shape=(), dtype=string, numpy=b'202'>, 'movie_title': <tf.Tensor: shape=(), dtype=string, numpy=b'Groundhog Day (1993)'>, 'raw_user_age': <tf.Tensor: shape=(), dtype=float32, numpy=19.0>, 'timestamp': <tf.Tensor: shape=(), dtype=int64, numpy=884922272>, 'user_gender': <tf.Tensor: shape=(), dtype=bool, numpy=True>, 'user_id': <tf.Tensor: shape=(), dtype=string, numpy=b'246'>, 'user_occupation_label': <tf.Tensor: shape=(), dtype=int64, numpy=17>, 'user_occupation_text': <tf.Tensor: shape=(), dtype=string, numpy=b'student'>, 'user_rating': <tf.Tensor: shape=(), dtype=float32, numpy=3.0>, 'user_zip_code': <tf.Tensor: shape=(), dtype=string, numpy=b'28734'>}\n",
            "{'bucketized_user_age': <tf.Tensor: shape=(), dtype=float32, numpy=18.0>, 'movie_genres': <tf.Tensor: shape=(1,), dtype=int64, numpy=array([4], dtype=int64)>, 'movie_id': <tf.Tensor: shape=(), dtype=string, numpy=b'433'>, 'movie_title': <tf.Tensor: shape=(), dtype=string, numpy=b'Heathers (1989)'>, 'raw_user_age': <tf.Tensor: shape=(), dtype=float32, numpy=21.0>, 'timestamp': <tf.Tensor: shape=(), dtype=int64, numpy=890987617>, 'user_gender': <tf.Tensor: shape=(), dtype=bool, numpy=True>, 'user_id': <tf.Tensor: shape=(), dtype=string, numpy=b'445'>, 'user_occupation_label': <tf.Tensor: shape=(), dtype=int64, numpy=21>, 'user_occupation_text': <tf.Tensor: shape=(), dtype=string, numpy=b'writer'>, 'user_rating': <tf.Tensor: shape=(), dtype=float32, numpy=2.0>, 'user_zip_code': <tf.Tensor: shape=(), dtype=string, numpy=b'92653'>}\n",
            "{'bucketized_user_age': <tf.Tensor: shape=(), dtype=float32, numpy=50.0>, 'movie_genres': <tf.Tensor: shape=(2,), dtype=int64, numpy=array([5, 7], dtype=int64)>, 'movie_id': <tf.Tensor: shape=(), dtype=string, numpy=b'182'>, 'movie_title': <tf.Tensor: shape=(), dtype=string, numpy=b'GoodFellas (1990)'>, 'raw_user_age': <tf.Tensor: shape=(), dtype=float32, numpy=55.0>, 'timestamp': <tf.Tensor: shape=(), dtype=int64, numpy=891439439>, 'user_gender': <tf.Tensor: shape=(), dtype=bool, numpy=True>, 'user_id': <tf.Tensor: shape=(), dtype=string, numpy=b'91'>, 'user_occupation_label': <tf.Tensor: shape=(), dtype=int64, numpy=14>, 'user_occupation_text': <tf.Tensor: shape=(), dtype=string, numpy=b'marketing'>, 'user_rating': <tf.Tensor: shape=(), dtype=float32, numpy=4.0>, 'user_zip_code': <tf.Tensor: shape=(), dtype=string, numpy=b'01913'>}\n",
            "{'bucketized_user_age': <tf.Tensor: shape=(), dtype=float32, numpy=25.0>, 'movie_genres': <tf.Tensor: shape=(2,), dtype=int64, numpy=array([5, 7], dtype=int64)>, 'movie_id': <tf.Tensor: shape=(), dtype=string, numpy=b'56'>, 'movie_title': <tf.Tensor: shape=(), dtype=string, numpy=b'Pulp Fiction (1994)'>, 'raw_user_age': <tf.Tensor: shape=(), dtype=float32, numpy=25.0>, 'timestamp': <tf.Tensor: shape=(), dtype=int64, numpy=876869445>, 'user_gender': <tf.Tensor: shape=(), dtype=bool, numpy=False>, 'user_id': <tf.Tensor: shape=(), dtype=string, numpy=b'372'>, 'user_occupation_label': <tf.Tensor: shape=(), dtype=int64, numpy=17>, 'user_occupation_text': <tf.Tensor: shape=(), dtype=string, numpy=b'student'>, 'user_rating': <tf.Tensor: shape=(), dtype=float32, numpy=4.0>, 'user_zip_code': <tf.Tensor: shape=(), dtype=string, numpy=b'66046'>}\n",
            "{'bucketized_user_age': <tf.Tensor: shape=(), dtype=float32, numpy=50.0>, 'movie_genres': <tf.Tensor: shape=(1,), dtype=int64, numpy=array([4], dtype=int64)>, 'movie_id': <tf.Tensor: shape=(), dtype=string, numpy=b'116'>, 'movie_title': <tf.Tensor: shape=(), dtype=string, numpy=b'Cold Comfort Farm (1995)'>, 'raw_user_age': <tf.Tensor: shape=(), dtype=float32, numpy=51.0>, 'timestamp': <tf.Tensor: shape=(), dtype=int64, numpy=891639552>, 'user_gender': <tf.Tensor: shape=(), dtype=bool, numpy=False>, 'user_id': <tf.Tensor: shape=(), dtype=string, numpy=b'891'>, 'user_occupation_label': <tf.Tensor: shape=(), dtype=int64, numpy=2>, 'user_occupation_text': <tf.Tensor: shape=(), dtype=string, numpy=b'administrator'>, 'user_rating': <tf.Tensor: shape=(), dtype=float32, numpy=3.0>, 'user_zip_code': <tf.Tensor: shape=(), dtype=string, numpy=b'03062'>}\n",
            "{'bucketized_user_age': <tf.Tensor: shape=(), dtype=float32, numpy=35.0>, 'movie_genres': <tf.Tensor: shape=(1,), dtype=int64, numpy=array([7], dtype=int64)>, 'movie_id': <tf.Tensor: shape=(), dtype=string, numpy=b'285'>, 'movie_title': <tf.Tensor: shape=(), dtype=string, numpy=b'Secrets & Lies (1996)'>, 'raw_user_age': <tf.Tensor: shape=(), dtype=float32, numpy=39.0>, 'timestamp': <tf.Tensor: shape=(), dtype=int64, numpy=877319414>, 'user_gender': <tf.Tensor: shape=(), dtype=bool, numpy=True>, 'user_id': <tf.Tensor: shape=(), dtype=string, numpy=b'71'>, 'user_occupation_label': <tf.Tensor: shape=(), dtype=int64, numpy=15>, 'user_occupation_text': <tf.Tensor: shape=(), dtype=string, numpy=b'scientist'>, 'user_rating': <tf.Tensor: shape=(), dtype=float32, numpy=3.0>, 'user_zip_code': <tf.Tensor: shape=(), dtype=string, numpy=b'98034'>}\n",
            "{'bucketized_user_age': <tf.Tensor: shape=(), dtype=float32, numpy=25.0>, 'movie_genres': <tf.Tensor: shape=(1,), dtype=int64, numpy=array([7], dtype=int64)>, 'movie_id': <tf.Tensor: shape=(), dtype=string, numpy=b'638'>, 'movie_title': <tf.Tensor: shape=(), dtype=string, numpy=b'Return of Martin Guerre, The (Retour de Martin Guerre, Le) (1982)'>, 'raw_user_age': <tf.Tensor: shape=(), dtype=float32, numpy=33.0>, 'timestamp': <tf.Tensor: shape=(), dtype=int64, numpy=875312441>, 'user_gender': <tf.Tensor: shape=(), dtype=bool, numpy=True>, 'user_id': <tf.Tensor: shape=(), dtype=string, numpy=b'279'>, 'user_occupation_label': <tf.Tensor: shape=(), dtype=int64, numpy=12>, 'user_occupation_text': <tf.Tensor: shape=(), dtype=string, numpy=b'programmer'>, 'user_rating': <tf.Tensor: shape=(), dtype=float32, numpy=4.0>, 'user_zip_code': <tf.Tensor: shape=(), dtype=string, numpy=b'85251'>}\n",
            "{'bucketized_user_age': <tf.Tensor: shape=(), dtype=float32, numpy=35.0>, 'movie_genres': <tf.Tensor: shape=(1,), dtype=int64, numpy=array([5], dtype=int64)>, 'movie_id': <tf.Tensor: shape=(), dtype=string, numpy=b'309'>, 'movie_title': <tf.Tensor: shape=(), dtype=string, numpy=b'Deceiver (1997)'>, 'raw_user_age': <tf.Tensor: shape=(), dtype=float32, numpy=37.0>, 'timestamp': <tf.Tensor: shape=(), dtype=int64, numpy=884153606>, 'user_gender': <tf.Tensor: shape=(), dtype=bool, numpy=False>, 'user_id': <tf.Tensor: shape=(), dtype=string, numpy=b'688'>, 'user_occupation_label': <tf.Tensor: shape=(), dtype=int64, numpy=2>, 'user_occupation_text': <tf.Tensor: shape=(), dtype=string, numpy=b'administrator'>, 'user_rating': <tf.Tensor: shape=(), dtype=float32, numpy=5.0>, 'user_zip_code': <tf.Tensor: shape=(), dtype=string, numpy=b'60476'>}\n",
            "{'bucketized_user_age': <tf.Tensor: shape=(), dtype=float32, numpy=45.0>, 'movie_genres': <tf.Tensor: shape=(2,), dtype=int64, numpy=array([0, 1], dtype=int64)>, 'movie_id': <tf.Tensor: shape=(), dtype=string, numpy=b'491'>, 'movie_title': <tf.Tensor: shape=(), dtype=string, numpy=b'Adventures of Robin Hood, The (1938)'>, 'raw_user_age': <tf.Tensor: shape=(), dtype=float32, numpy=49.0>, 'timestamp': <tf.Tensor: shape=(), dtype=int64, numpy=888206689>, 'user_gender': <tf.Tensor: shape=(), dtype=bool, numpy=True>, 'user_id': <tf.Tensor: shape=(), dtype=string, numpy=b'59'>, 'user_occupation_label': <tf.Tensor: shape=(), dtype=int64, numpy=0>, 'user_occupation_text': <tf.Tensor: shape=(), dtype=string, numpy=b'educator'>, 'user_rating': <tf.Tensor: shape=(), dtype=float32, numpy=4.0>, 'user_zip_code': <tf.Tensor: shape=(), dtype=string, numpy=b'08403'>}\n",
            "{'bucketized_user_age': <tf.Tensor: shape=(), dtype=float32, numpy=25.0>, 'movie_genres': <tf.Tensor: shape=(3,), dtype=int64, numpy=array([ 0,  1, 16], dtype=int64)>, 'movie_id': <tf.Tensor: shape=(), dtype=string, numpy=b'117'>, 'movie_title': <tf.Tensor: shape=(), dtype=string, numpy=b'Rock, The (1996)'>, 'raw_user_age': <tf.Tensor: shape=(), dtype=float32, numpy=25.0>, 'timestamp': <tf.Tensor: shape=(), dtype=int64, numpy=892679439>, 'user_gender': <tf.Tensor: shape=(), dtype=bool, numpy=True>, 'user_id': <tf.Tensor: shape=(), dtype=string, numpy=b'56'>, 'user_occupation_label': <tf.Tensor: shape=(), dtype=int64, numpy=10>, 'user_occupation_text': <tf.Tensor: shape=(), dtype=string, numpy=b'librarian'>, 'user_rating': <tf.Tensor: shape=(), dtype=float32, numpy=5.0>, 'user_zip_code': <tf.Tensor: shape=(), dtype=string, numpy=b'46260'>}\n",
            "{'bucketized_user_age': <tf.Tensor: shape=(), dtype=float32, numpy=25.0>, 'movie_genres': <tf.Tensor: shape=(1,), dtype=int64, numpy=array([16], dtype=int64)>, 'movie_id': <tf.Tensor: shape=(), dtype=string, numpy=b'466'>, 'movie_title': <tf.Tensor: shape=(), dtype=string, numpy=b'Red Rock West (1992)'>, 'raw_user_age': <tf.Tensor: shape=(), dtype=float32, numpy=29.0>, 'timestamp': <tf.Tensor: shape=(), dtype=int64, numpy=882813761>, 'user_gender': <tf.Tensor: shape=(), dtype=bool, numpy=False>, 'user_id': <tf.Tensor: shape=(), dtype=string, numpy=b'854'>, 'user_occupation_label': <tf.Tensor: shape=(), dtype=int64, numpy=17>, 'user_occupation_text': <tf.Tensor: shape=(), dtype=string, numpy=b'student'>, 'user_rating': <tf.Tensor: shape=(), dtype=float32, numpy=3.0>, 'user_zip_code': <tf.Tensor: shape=(), dtype=string, numpy=b'55408'>}\n",
            "{'bucketized_user_age': <tf.Tensor: shape=(), dtype=float32, numpy=35.0>, 'movie_genres': <tf.Tensor: shape=(1,), dtype=int64, numpy=array([7], dtype=int64)>, 'movie_id': <tf.Tensor: shape=(), dtype=string, numpy=b'160'>, 'movie_title': <tf.Tensor: shape=(), dtype=string, numpy=b'Glengarry Glen Ross (1992)'>, 'raw_user_age': <tf.Tensor: shape=(), dtype=float32, numpy=38.0>, 'timestamp': <tf.Tensor: shape=(), dtype=int64, numpy=879448599>, 'user_gender': <tf.Tensor: shape=(), dtype=bool, numpy=True>, 'user_id': <tf.Tensor: shape=(), dtype=string, numpy=b'615'>, 'user_occupation_label': <tf.Tensor: shape=(), dtype=int64, numpy=0>, 'user_occupation_text': <tf.Tensor: shape=(), dtype=string, numpy=b'educator'>, 'user_rating': <tf.Tensor: shape=(), dtype=float32, numpy=3.0>, 'user_zip_code': <tf.Tensor: shape=(), dtype=string, numpy=b'27705'>}\n",
            "{'bucketized_user_age': <tf.Tensor: shape=(), dtype=float32, numpy=35.0>, 'movie_genres': <tf.Tensor: shape=(1,), dtype=int64, numpy=array([7], dtype=int64)>, 'movie_id': <tf.Tensor: shape=(), dtype=string, numpy=b'19'>, 'movie_title': <tf.Tensor: shape=(), dtype=string, numpy=b\"Antonia's Line (1995)\">, 'raw_user_age': <tf.Tensor: shape=(), dtype=float32, numpy=42.0>, 'timestamp': <tf.Tensor: shape=(), dtype=int64, numpy=891239813>, 'user_gender': <tf.Tensor: shape=(), dtype=bool, numpy=False>, 'user_id': <tf.Tensor: shape=(), dtype=string, numpy=b'639'>, 'user_occupation_label': <tf.Tensor: shape=(), dtype=int64, numpy=10>, 'user_occupation_text': <tf.Tensor: shape=(), dtype=string, numpy=b'librarian'>, 'user_rating': <tf.Tensor: shape=(), dtype=float32, numpy=4.0>, 'user_zip_code': <tf.Tensor: shape=(), dtype=string, numpy=b'12065'>}\n",
            "{'bucketized_user_age': <tf.Tensor: shape=(), dtype=float32, numpy=35.0>, 'movie_genres': <tf.Tensor: shape=(2,), dtype=int64, numpy=array([ 7, 16], dtype=int64)>, 'movie_id': <tf.Tensor: shape=(), dtype=string, numpy=b'591'>, 'movie_title': <tf.Tensor: shape=(), dtype=string, numpy=b'Primal Fear (1996)'>, 'raw_user_age': <tf.Tensor: shape=(), dtype=float32, numpy=44.0>, 'timestamp': <tf.Tensor: shape=(), dtype=int64, numpy=880696196>, 'user_gender': <tf.Tensor: shape=(), dtype=bool, numpy=True>, 'user_id': <tf.Tensor: shape=(), dtype=string, numpy=b'699'>, 'user_occupation_label': <tf.Tensor: shape=(), dtype=int64, numpy=11>, 'user_occupation_text': <tf.Tensor: shape=(), dtype=string, numpy=b'other'>, 'user_rating': <tf.Tensor: shape=(), dtype=float32, numpy=2.0>, 'user_zip_code': <tf.Tensor: shape=(), dtype=string, numpy=b'96754'>}\n",
            "{'bucketized_user_age': <tf.Tensor: shape=(), dtype=float32, numpy=35.0>, 'movie_genres': <tf.Tensor: shape=(3,), dtype=int64, numpy=array([ 2,  3, 12], dtype=int64)>, 'movie_id': <tf.Tensor: shape=(), dtype=string, numpy=b'99'>, 'movie_title': <tf.Tensor: shape=(), dtype=string, numpy=b'Snow White and the Seven Dwarfs (1937)'>, 'raw_user_age': <tf.Tensor: shape=(), dtype=float32, numpy=42.0>, 'timestamp': <tf.Tensor: shape=(), dtype=int64, numpy=888737277>, 'user_gender': <tf.Tensor: shape=(), dtype=bool, numpy=True>, 'user_id': <tf.Tensor: shape=(), dtype=string, numpy=b'195'>, 'user_occupation_label': <tf.Tensor: shape=(), dtype=int64, numpy=15>, 'user_occupation_text': <tf.Tensor: shape=(), dtype=string, numpy=b'scientist'>, 'user_rating': <tf.Tensor: shape=(), dtype=float32, numpy=3.0>, 'user_zip_code': <tf.Tensor: shape=(), dtype=string, numpy=b'93555'>}\n",
            "{'bucketized_user_age': <tf.Tensor: shape=(), dtype=float32, numpy=25.0>, 'movie_genres': <tf.Tensor: shape=(4,), dtype=int64, numpy=array([ 5,  9, 13, 16], dtype=int64)>, 'movie_id': <tf.Tensor: shape=(), dtype=string, numpy=b'302'>, 'movie_title': <tf.Tensor: shape=(), dtype=string, numpy=b'L.A. Confidential (1997)'>, 'raw_user_age': <tf.Tensor: shape=(), dtype=float32, numpy=30.0>, 'timestamp': <tf.Tensor: shape=(), dtype=int64, numpy=892685224>, 'user_gender': <tf.Tensor: shape=(), dtype=bool, numpy=True>, 'user_id': <tf.Tensor: shape=(), dtype=string, numpy=b'676'>, 'user_occupation_label': <tf.Tensor: shape=(), dtype=int64, numpy=12>, 'user_occupation_text': <tf.Tensor: shape=(), dtype=string, numpy=b'programmer'>, 'user_rating': <tf.Tensor: shape=(), dtype=float32, numpy=5.0>, 'user_zip_code': <tf.Tensor: shape=(), dtype=string, numpy=b'32712'>}\n",
            "{'bucketized_user_age': <tf.Tensor: shape=(), dtype=float32, numpy=25.0>, 'movie_genres': <tf.Tensor: shape=(2,), dtype=int64, numpy=array([ 4, 14], dtype=int64)>, 'movie_id': <tf.Tensor: shape=(), dtype=string, numpy=b'1028'>, 'movie_title': <tf.Tensor: shape=(), dtype=string, numpy=b'Grumpier Old Men (1995)'>, 'raw_user_age': <tf.Tensor: shape=(), dtype=float32, numpy=33.0>, 'timestamp': <tf.Tensor: shape=(), dtype=int64, numpy=875296104>, 'user_gender': <tf.Tensor: shape=(), dtype=bool, numpy=True>, 'user_id': <tf.Tensor: shape=(), dtype=string, numpy=b'279'>, 'user_occupation_label': <tf.Tensor: shape=(), dtype=int64, numpy=12>, 'user_occupation_text': <tf.Tensor: shape=(), dtype=string, numpy=b'programmer'>, 'user_rating': <tf.Tensor: shape=(), dtype=float32, numpy=4.0>, 'user_zip_code': <tf.Tensor: shape=(), dtype=string, numpy=b'85251'>}\n",
            "{'bucketized_user_age': <tf.Tensor: shape=(), dtype=float32, numpy=35.0>, 'movie_genres': <tf.Tensor: shape=(2,), dtype=int64, numpy=array([ 7, 13], dtype=int64)>, 'movie_id': <tf.Tensor: shape=(), dtype=string, numpy=b'124'>, 'movie_title': <tf.Tensor: shape=(), dtype=string, numpy=b'Lone Star (1996)'>, 'raw_user_age': <tf.Tensor: shape=(), dtype=float32, numpy=39.0>, 'timestamp': <tf.Tensor: shape=(), dtype=int64, numpy=875728913>, 'user_gender': <tf.Tensor: shape=(), dtype=bool, numpy=True>, 'user_id': <tf.Tensor: shape=(), dtype=string, numpy=b'634'>, 'user_occupation_label': <tf.Tensor: shape=(), dtype=int64, numpy=18>, 'user_occupation_text': <tf.Tensor: shape=(), dtype=string, numpy=b'engineer'>, 'user_rating': <tf.Tensor: shape=(), dtype=float32, numpy=3.0>, 'user_zip_code': <tf.Tensor: shape=(), dtype=string, numpy=b'T8H1N'>}\n",
            "{'bucketized_user_age': <tf.Tensor: shape=(), dtype=float32, numpy=25.0>, 'movie_genres': <tf.Tensor: shape=(2,), dtype=int64, numpy=array([ 7, 14], dtype=int64)>, 'movie_id': <tf.Tensor: shape=(), dtype=string, numpy=b'125'>, 'movie_title': <tf.Tensor: shape=(), dtype=string, numpy=b'Phenomenon (1996)'>, 'raw_user_age': <tf.Tensor: shape=(), dtype=float32, numpy=27.0>, 'timestamp': <tf.Tensor: shape=(), dtype=int64, numpy=889334373>, 'user_gender': <tf.Tensor: shape=(), dtype=bool, numpy=False>, 'user_id': <tf.Tensor: shape=(), dtype=string, numpy=b'505'>, 'user_occupation_label': <tf.Tensor: shape=(), dtype=int64, numpy=11>, 'user_occupation_text': <tf.Tensor: shape=(), dtype=string, numpy=b'other'>, 'user_rating': <tf.Tensor: shape=(), dtype=float32, numpy=3.0>, 'user_zip_code': <tf.Tensor: shape=(), dtype=string, numpy=b'20657'>}\n",
            "{'bucketized_user_age': <tf.Tensor: shape=(), dtype=float32, numpy=25.0>, 'movie_genres': <tf.Tensor: shape=(2,), dtype=int64, numpy=array([ 7, 15], dtype=int64)>, 'movie_id': <tf.Tensor: shape=(), dtype=string, numpy=b'7'>, 'movie_title': <tf.Tensor: shape=(), dtype=string, numpy=b'Twelve Monkeys (1995)'>, 'raw_user_age': <tf.Tensor: shape=(), dtype=float32, numpy=27.0>, 'timestamp': <tf.Tensor: shape=(), dtype=int64, numpy=883789425>, 'user_gender': <tf.Tensor: shape=(), dtype=bool, numpy=False>, 'user_id': <tf.Tensor: shape=(), dtype=string, numpy=b'617'>, 'user_occupation_label': <tf.Tensor: shape=(), dtype=int64, numpy=21>, 'user_occupation_text': <tf.Tensor: shape=(), dtype=string, numpy=b'writer'>, 'user_rating': <tf.Tensor: shape=(), dtype=float32, numpy=3.0>, 'user_zip_code': <tf.Tensor: shape=(), dtype=string, numpy=b'11201'>}\n",
            "{'bucketized_user_age': <tf.Tensor: shape=(), dtype=float32, numpy=35.0>, 'movie_genres': <tf.Tensor: shape=(2,), dtype=int64, numpy=array([ 7, 16], dtype=int64)>, 'movie_id': <tf.Tensor: shape=(), dtype=string, numpy=b'98'>, 'movie_title': <tf.Tensor: shape=(), dtype=string, numpy=b'Silence of the Lambs, The (1991)'>, 'raw_user_age': <tf.Tensor: shape=(), dtype=float32, numpy=44.0>, 'timestamp': <tf.Tensor: shape=(), dtype=int64, numpy=880139381>, 'user_gender': <tf.Tensor: shape=(), dtype=bool, numpy=True>, 'user_id': <tf.Tensor: shape=(), dtype=string, numpy=b'666'>, 'user_occupation_label': <tf.Tensor: shape=(), dtype=int64, numpy=2>, 'user_occupation_text': <tf.Tensor: shape=(), dtype=string, numpy=b'administrator'>, 'user_rating': <tf.Tensor: shape=(), dtype=float32, numpy=4.0>, 'user_zip_code': <tf.Tensor: shape=(), dtype=string, numpy=b'61820'>}\n",
            "{'bucketized_user_age': <tf.Tensor: shape=(), dtype=float32, numpy=18.0>, 'movie_genres': <tf.Tensor: shape=(2,), dtype=int64, numpy=array([ 7, 14], dtype=int64)>, 'movie_id': <tf.Tensor: shape=(), dtype=string, numpy=b'794'>, 'movie_title': <tf.Tensor: shape=(), dtype=string, numpy=b'It Could Happen to You (1994)'>, 'raw_user_age': <tf.Tensor: shape=(), dtype=float32, numpy=20.0>, 'timestamp': <tf.Tensor: shape=(), dtype=int64, numpy=893213019>, 'user_gender': <tf.Tensor: shape=(), dtype=bool, numpy=False>, 'user_id': <tf.Tensor: shape=(), dtype=string, numpy=b'416'>, 'user_occupation_label': <tf.Tensor: shape=(), dtype=int64, numpy=17>, 'user_occupation_text': <tf.Tensor: shape=(), dtype=string, numpy=b'student'>, 'user_rating': <tf.Tensor: shape=(), dtype=float32, numpy=5.0>, 'user_zip_code': <tf.Tensor: shape=(), dtype=string, numpy=b'92626'>}\n",
            "{'bucketized_user_age': <tf.Tensor: shape=(), dtype=float32, numpy=50.0>, 'movie_genres': <tf.Tensor: shape=(1,), dtype=int64, numpy=array([7], dtype=int64)>, 'movie_id': <tf.Tensor: shape=(), dtype=string, numpy=b'927'>, 'movie_title': <tf.Tensor: shape=(), dtype=string, numpy=b'Flower of My Secret, The (Flor de mi secreto, La) (1995)'>, 'raw_user_age': <tf.Tensor: shape=(), dtype=float32, numpy=50.0>, 'timestamp': <tf.Tensor: shape=(), dtype=int64, numpy=887564613>, 'user_gender': <tf.Tensor: shape=(), dtype=bool, numpy=False>, 'user_id': <tf.Tensor: shape=(), dtype=string, numpy=b'655'>, 'user_occupation_label': <tf.Tensor: shape=(), dtype=int64, numpy=4>, 'user_occupation_text': <tf.Tensor: shape=(), dtype=string, numpy=b'healthcare'>, 'user_rating': <tf.Tensor: shape=(), dtype=float32, numpy=3.0>, 'user_zip_code': <tf.Tensor: shape=(), dtype=string, numpy=b'60657'>}\n",
            "{'bucketized_user_age': <tf.Tensor: shape=(), dtype=float32, numpy=18.0>, 'movie_genres': <tf.Tensor: shape=(2,), dtype=int64, numpy=array([4, 5], dtype=int64)>, 'movie_id': <tf.Tensor: shape=(), dtype=string, numpy=b'248'>, 'movie_title': <tf.Tensor: shape=(), dtype=string, numpy=b'Grosse Pointe Blank (1997)'>, 'raw_user_age': <tf.Tensor: shape=(), dtype=float32, numpy=24.0>, 'timestamp': <tf.Tensor: shape=(), dtype=int64, numpy=888904985>, 'user_gender': <tf.Tensor: shape=(), dtype=bool, numpy=True>, 'user_id': <tf.Tensor: shape=(), dtype=string, numpy=b'293'>, 'user_occupation_label': <tf.Tensor: shape=(), dtype=int64, numpy=21>, 'user_occupation_text': <tf.Tensor: shape=(), dtype=string, numpy=b'writer'>, 'user_rating': <tf.Tensor: shape=(), dtype=float32, numpy=3.0>, 'user_zip_code': <tf.Tensor: shape=(), dtype=string, numpy=b'60804'>}\n",
            "{'bucketized_user_age': <tf.Tensor: shape=(), dtype=float32, numpy=25.0>, 'movie_genres': <tf.Tensor: shape=(1,), dtype=int64, numpy=array([7], dtype=int64)>, 'movie_id': <tf.Tensor: shape=(), dtype=string, numpy=b'136'>, 'movie_title': <tf.Tensor: shape=(), dtype=string, numpy=b'Mr. Smith Goes to Washington (1939)'>, 'raw_user_age': <tf.Tensor: shape=(), dtype=float32, numpy=32.0>, 'timestamp': <tf.Tensor: shape=(), dtype=int64, numpy=882347699>, 'user_gender': <tf.Tensor: shape=(), dtype=bool, numpy=True>, 'user_id': <tf.Tensor: shape=(), dtype=string, numpy=b'350'>, 'user_occupation_label': <tf.Tensor: shape=(), dtype=int64, numpy=17>, 'user_occupation_text': <tf.Tensor: shape=(), dtype=string, numpy=b'student'>, 'user_rating': <tf.Tensor: shape=(), dtype=float32, numpy=5.0>, 'user_zip_code': <tf.Tensor: shape=(), dtype=string, numpy=b'97301'>}\n",
            "{'bucketized_user_age': <tf.Tensor: shape=(), dtype=float32, numpy=25.0>, 'movie_genres': <tf.Tensor: shape=(2,), dtype=int64, numpy=array([0, 7], dtype=int64)>, 'movie_id': <tf.Tensor: shape=(), dtype=string, numpy=b'339'>, 'movie_title': <tf.Tensor: shape=(), dtype=string, numpy=b'Mad City (1997)'>, 'raw_user_age': <tf.Tensor: shape=(), dtype=float32, numpy=29.0>, 'timestamp': <tf.Tensor: shape=(), dtype=int64, numpy=883790609>, 'user_gender': <tf.Tensor: shape=(), dtype=bool, numpy=False>, 'user_id': <tf.Tensor: shape=(), dtype=string, numpy=b'404'>, 'user_occupation_label': <tf.Tensor: shape=(), dtype=int64, numpy=12>, 'user_occupation_text': <tf.Tensor: shape=(), dtype=string, numpy=b'programmer'>, 'user_rating': <tf.Tensor: shape=(), dtype=float32, numpy=1.0>, 'user_zip_code': <tf.Tensor: shape=(), dtype=string, numpy=b'55108'>}\n",
            "{'bucketized_user_age': <tf.Tensor: shape=(), dtype=float32, numpy=25.0>, 'movie_genres': <tf.Tensor: shape=(3,), dtype=int64, numpy=array([ 0, 15, 16], dtype=int64)>, 'movie_id': <tf.Tensor: shape=(), dtype=string, numpy=b'96'>, 'movie_title': <tf.Tensor: shape=(), dtype=string, numpy=b'Terminator 2: Judgment Day (1991)'>, 'raw_user_age': <tf.Tensor: shape=(), dtype=float32, numpy=32.0>, 'timestamp': <tf.Tensor: shape=(), dtype=int64, numpy=881957250>, 'user_gender': <tf.Tensor: shape=(), dtype=bool, numpy=True>, 'user_id': <tf.Tensor: shape=(), dtype=string, numpy=b'28'>, 'user_occupation_label': <tf.Tensor: shape=(), dtype=int64, numpy=21>, 'user_occupation_text': <tf.Tensor: shape=(), dtype=string, numpy=b'writer'>, 'user_rating': <tf.Tensor: shape=(), dtype=float32, numpy=5.0>, 'user_zip_code': <tf.Tensor: shape=(), dtype=string, numpy=b'55369'>}\n",
            "{'bucketized_user_age': <tf.Tensor: shape=(), dtype=float32, numpy=25.0>, 'movie_genres': <tf.Tensor: shape=(2,), dtype=int64, numpy=array([ 7, 14], dtype=int64)>, 'movie_id': <tf.Tensor: shape=(), dtype=string, numpy=b'268'>, 'movie_title': <tf.Tensor: shape=(), dtype=string, numpy=b'Chasing Amy (1997)'>, 'raw_user_age': <tf.Tensor: shape=(), dtype=float32, numpy=28.0>, 'timestamp': <tf.Tensor: shape=(), dtype=int64, numpy=885943818>, 'user_gender': <tf.Tensor: shape=(), dtype=bool, numpy=True>, 'user_id': <tf.Tensor: shape=(), dtype=string, numpy=b'428'>, 'user_occupation_label': <tf.Tensor: shape=(), dtype=int64, numpy=17>, 'user_occupation_text': <tf.Tensor: shape=(), dtype=string, numpy=b'student'>, 'user_rating': <tf.Tensor: shape=(), dtype=float32, numpy=4.0>, 'user_zip_code': <tf.Tensor: shape=(), dtype=string, numpy=b'55414'>}\n",
            "{'bucketized_user_age': <tf.Tensor: shape=(), dtype=float32, numpy=35.0>, 'movie_genres': <tf.Tensor: shape=(2,), dtype=int64, numpy=array([4, 5], dtype=int64)>, 'movie_id': <tf.Tensor: shape=(), dtype=string, numpy=b'248'>, 'movie_title': <tf.Tensor: shape=(), dtype=string, numpy=b'Grosse Pointe Blank (1997)'>, 'raw_user_age': <tf.Tensor: shape=(), dtype=float32, numpy=44.0>, 'timestamp': <tf.Tensor: shape=(), dtype=int64, numpy=879535752>, 'user_gender': <tf.Tensor: shape=(), dtype=bool, numpy=False>, 'user_id': <tf.Tensor: shape=(), dtype=string, numpy=b'733'>, 'user_occupation_label': <tf.Tensor: shape=(), dtype=int64, numpy=11>, 'user_occupation_text': <tf.Tensor: shape=(), dtype=string, numpy=b'other'>, 'user_rating': <tf.Tensor: shape=(), dtype=float32, numpy=3.0>, 'user_zip_code': <tf.Tensor: shape=(), dtype=string, numpy=b'60630'>}\n",
            "{'bucketized_user_age': <tf.Tensor: shape=(), dtype=float32, numpy=25.0>, 'movie_genres': <tf.Tensor: shape=(2,), dtype=int64, numpy=array([ 7, 14], dtype=int64)>, 'movie_id': <tf.Tensor: shape=(), dtype=string, numpy=b'275'>, 'movie_title': <tf.Tensor: shape=(), dtype=string, numpy=b'Sense and Sensibility (1995)'>, 'raw_user_age': <tf.Tensor: shape=(), dtype=float32, numpy=29.0>, 'timestamp': <tf.Tensor: shape=(), dtype=int64, numpy=891216526>, 'user_gender': <tf.Tensor: shape=(), dtype=bool, numpy=False>, 'user_id': <tf.Tensor: shape=(), dtype=string, numpy=b'354'>, 'user_occupation_label': <tf.Tensor: shape=(), dtype=int64, numpy=10>, 'user_occupation_text': <tf.Tensor: shape=(), dtype=string, numpy=b'librarian'>, 'user_rating': <tf.Tensor: shape=(), dtype=float32, numpy=4.0>, 'user_zip_code': <tf.Tensor: shape=(), dtype=string, numpy=b'48197'>}\n",
            "{'bucketized_user_age': <tf.Tensor: shape=(), dtype=float32, numpy=35.0>, 'movie_genres': <tf.Tensor: shape=(2,), dtype=int64, numpy=array([5, 7], dtype=int64)>, 'movie_id': <tf.Tensor: shape=(), dtype=string, numpy=b'628'>, 'movie_title': <tf.Tensor: shape=(), dtype=string, numpy=b'Sleepers (1996)'>, 'raw_user_age': <tf.Tensor: shape=(), dtype=float32, numpy=39.0>, 'timestamp': <tf.Tensor: shape=(), dtype=int64, numpy=879875278>, 'user_gender': <tf.Tensor: shape=(), dtype=bool, numpy=True>, 'user_id': <tf.Tensor: shape=(), dtype=string, numpy=b'486'>, 'user_occupation_label': <tf.Tensor: shape=(), dtype=int64, numpy=0>, 'user_occupation_text': <tf.Tensor: shape=(), dtype=string, numpy=b'educator'>, 'user_rating': <tf.Tensor: shape=(), dtype=float32, numpy=3.0>, 'user_zip_code': <tf.Tensor: shape=(), dtype=string, numpy=b'93101'>}\n",
            "{'bucketized_user_age': <tf.Tensor: shape=(), dtype=float32, numpy=45.0>, 'movie_genres': <tf.Tensor: shape=(1,), dtype=int64, numpy=array([15], dtype=int64)>, 'movie_id': <tf.Tensor: shape=(), dtype=string, numpy=b'179'>, 'movie_title': <tf.Tensor: shape=(), dtype=string, numpy=b'Clockwork Orange, A (1971)'>, 'raw_user_age': <tf.Tensor: shape=(), dtype=float32, numpy=48.0>, 'timestamp': <tf.Tensor: shape=(), dtype=int64, numpy=881107817>, 'user_gender': <tf.Tensor: shape=(), dtype=bool, numpy=True>, 'user_id': <tf.Tensor: shape=(), dtype=string, numpy=b'409'>, 'user_occupation_label': <tf.Tensor: shape=(), dtype=int64, numpy=2>, 'user_occupation_text': <tf.Tensor: shape=(), dtype=string, numpy=b'administrator'>, 'user_rating': <tf.Tensor: shape=(), dtype=float32, numpy=5.0>, 'user_zip_code': <tf.Tensor: shape=(), dtype=string, numpy=b'98225'>}\n",
            "{'bucketized_user_age': <tf.Tensor: shape=(), dtype=float32, numpy=1.0>, 'movie_genres': <tf.Tensor: shape=(2,), dtype=int64, numpy=array([2, 4], dtype=int64)>, 'movie_id': <tf.Tensor: shape=(), dtype=string, numpy=b'240'>, 'movie_title': <tf.Tensor: shape=(), dtype=string, numpy=b'Beavis and Butt-head Do America (1996)'>, 'raw_user_age': <tf.Tensor: shape=(), dtype=float32, numpy=17.0>, 'timestamp': <tf.Tensor: shape=(), dtype=int64, numpy=882961804>, 'user_gender': <tf.Tensor: shape=(), dtype=bool, numpy=True>, 'user_id': <tf.Tensor: shape=(), dtype=string, numpy=b'582'>, 'user_occupation_label': <tf.Tensor: shape=(), dtype=int64, numpy=17>, 'user_occupation_text': <tf.Tensor: shape=(), dtype=string, numpy=b'student'>, 'user_rating': <tf.Tensor: shape=(), dtype=float32, numpy=4.0>, 'user_zip_code': <tf.Tensor: shape=(), dtype=string, numpy=b'93003'>}\n",
            "{'bucketized_user_age': <tf.Tensor: shape=(), dtype=float32, numpy=25.0>, 'movie_genres': <tf.Tensor: shape=(1,), dtype=int64, numpy=array([10], dtype=int64)>, 'movie_id': <tf.Tensor: shape=(), dtype=string, numpy=b'200'>, 'movie_title': <tf.Tensor: shape=(), dtype=string, numpy=b'Shining, The (1980)'>, 'raw_user_age': <tf.Tensor: shape=(), dtype=float32, numpy=26.0>, 'timestamp': <tf.Tensor: shape=(), dtype=int64, numpy=891628392>, 'user_gender': <tf.Tensor: shape=(), dtype=bool, numpy=False>, 'user_id': <tf.Tensor: shape=(), dtype=string, numpy=b'253'>, 'user_occupation_label': <tf.Tensor: shape=(), dtype=int64, numpy=10>, 'user_occupation_text': <tf.Tensor: shape=(), dtype=string, numpy=b'librarian'>, 'user_rating': <tf.Tensor: shape=(), dtype=float32, numpy=4.0>, 'user_zip_code': <tf.Tensor: shape=(), dtype=string, numpy=b'22903'>}\n",
            "{'bucketized_user_age': <tf.Tensor: shape=(), dtype=float32, numpy=25.0>, 'movie_genres': <tf.Tensor: shape=(1,), dtype=int64, numpy=array([4], dtype=int64)>, 'movie_id': <tf.Tensor: shape=(), dtype=string, numpy=b'516'>, 'movie_title': <tf.Tensor: shape=(), dtype=string, numpy=b'Local Hero (1983)'>, 'raw_user_age': <tf.Tensor: shape=(), dtype=float32, numpy=29.0>, 'timestamp': <tf.Tensor: shape=(), dtype=int64, numpy=891217851>, 'user_gender': <tf.Tensor: shape=(), dtype=bool, numpy=False>, 'user_id': <tf.Tensor: shape=(), dtype=string, numpy=b'354'>, 'user_occupation_label': <tf.Tensor: shape=(), dtype=int64, numpy=10>, 'user_occupation_text': <tf.Tensor: shape=(), dtype=string, numpy=b'librarian'>, 'user_rating': <tf.Tensor: shape=(), dtype=float32, numpy=5.0>, 'user_zip_code': <tf.Tensor: shape=(), dtype=string, numpy=b'48197'>}\n",
            "{'bucketized_user_age': <tf.Tensor: shape=(), dtype=float32, numpy=25.0>, 'movie_genres': <tf.Tensor: shape=(1,), dtype=int64, numpy=array([7], dtype=int64)>, 'movie_id': <tf.Tensor: shape=(), dtype=string, numpy=b'1009'>, 'movie_title': <tf.Tensor: shape=(), dtype=string, numpy=b'Stealing Beauty (1996)'>, 'raw_user_age': <tf.Tensor: shape=(), dtype=float32, numpy=26.0>, 'timestamp': <tf.Tensor: shape=(), dtype=int64, numpy=889493069>, 'user_gender': <tf.Tensor: shape=(), dtype=bool, numpy=True>, 'user_id': <tf.Tensor: shape=(), dtype=string, numpy=b'663'>, 'user_occupation_label': <tf.Tensor: shape=(), dtype=int64, numpy=11>, 'user_occupation_text': <tf.Tensor: shape=(), dtype=string, numpy=b'other'>, 'user_rating': <tf.Tensor: shape=(), dtype=float32, numpy=3.0>, 'user_zip_code': <tf.Tensor: shape=(), dtype=string, numpy=b'19341'>}\n",
            "{'bucketized_user_age': <tf.Tensor: shape=(), dtype=float32, numpy=35.0>, 'movie_genres': <tf.Tensor: shape=(1,), dtype=int64, numpy=array([15], dtype=int64)>, 'movie_id': <tf.Tensor: shape=(), dtype=string, numpy=b'175'>, 'movie_title': <tf.Tensor: shape=(), dtype=string, numpy=b'Brazil (1985)'>, 'raw_user_age': <tf.Tensor: shape=(), dtype=float32, numpy=37.0>, 'timestamp': <tf.Tensor: shape=(), dtype=int64, numpy=892550170>, 'user_gender': <tf.Tensor: shape=(), dtype=bool, numpy=True>, 'user_id': <tf.Tensor: shape=(), dtype=string, numpy=b'669'>, 'user_occupation_label': <tf.Tensor: shape=(), dtype=int64, numpy=11>, 'user_occupation_text': <tf.Tensor: shape=(), dtype=string, numpy=b'other'>, 'user_rating': <tf.Tensor: shape=(), dtype=float32, numpy=4.0>, 'user_zip_code': <tf.Tensor: shape=(), dtype=string, numpy=b'20009'>}\n",
            "{'bucketized_user_age': <tf.Tensor: shape=(), dtype=float32, numpy=45.0>, 'movie_genres': <tf.Tensor: shape=(2,), dtype=int64, numpy=array([ 4, 14], dtype=int64)>, 'movie_id': <tf.Tensor: shape=(), dtype=string, numpy=b'70'>, 'movie_title': <tf.Tensor: shape=(), dtype=string, numpy=b'Four Weddings and a Funeral (1994)'>, 'raw_user_age': <tf.Tensor: shape=(), dtype=float32, numpy=45.0>, 'timestamp': <tf.Tensor: shape=(), dtype=int64, numpy=879618849>, 'user_gender': <tf.Tensor: shape=(), dtype=bool, numpy=False>, 'user_id': <tf.Tensor: shape=(), dtype=string, numpy=b'535'>, 'user_occupation_label': <tf.Tensor: shape=(), dtype=int64, numpy=0>, 'user_occupation_text': <tf.Tensor: shape=(), dtype=string, numpy=b'educator'>, 'user_rating': <tf.Tensor: shape=(), dtype=float32, numpy=4.0>, 'user_zip_code': <tf.Tensor: shape=(), dtype=string, numpy=b'80302'>}\n",
            "{'bucketized_user_age': <tf.Tensor: shape=(), dtype=float32, numpy=25.0>, 'movie_genres': <tf.Tensor: shape=(4,), dtype=int64, numpy=array([ 0, 10, 15, 16], dtype=int64)>, 'movie_id': <tf.Tensor: shape=(), dtype=string, numpy=b'183'>, 'movie_title': <tf.Tensor: shape=(), dtype=string, numpy=b'Alien (1979)'>, 'raw_user_age': <tf.Tensor: shape=(), dtype=float32, numpy=32.0>, 'timestamp': <tf.Tensor: shape=(), dtype=int64, numpy=879975586>, 'user_gender': <tf.Tensor: shape=(), dtype=bool, numpy=True>, 'user_id': <tf.Tensor: shape=(), dtype=string, numpy=b'560'>, 'user_occupation_label': <tf.Tensor: shape=(), dtype=int64, numpy=17>, 'user_occupation_text': <tf.Tensor: shape=(), dtype=string, numpy=b'student'>, 'user_rating': <tf.Tensor: shape=(), dtype=float32, numpy=5.0>, 'user_zip_code': <tf.Tensor: shape=(), dtype=string, numpy=b'10003'>}\n",
            "{'bucketized_user_age': <tf.Tensor: shape=(), dtype=float32, numpy=56.0>, 'movie_genres': <tf.Tensor: shape=(1,), dtype=int64, numpy=array([4], dtype=int64)>, 'movie_id': <tf.Tensor: shape=(), dtype=string, numpy=b'386'>, 'movie_title': <tf.Tensor: shape=(), dtype=string, numpy=b'Addams Family Values (1993)'>, 'raw_user_age': <tf.Tensor: shape=(), dtype=float32, numpy=57.0>, 'timestamp': <tf.Tensor: shape=(), dtype=int64, numpy=892133310>, 'user_gender': <tf.Tensor: shape=(), dtype=bool, numpy=True>, 'user_id': <tf.Tensor: shape=(), dtype=string, numpy=b'7'>, 'user_occupation_label': <tf.Tensor: shape=(), dtype=int64, numpy=2>, 'user_occupation_text': <tf.Tensor: shape=(), dtype=string, numpy=b'administrator'>, 'user_rating': <tf.Tensor: shape=(), dtype=float32, numpy=4.0>, 'user_zip_code': <tf.Tensor: shape=(), dtype=string, numpy=b'91344'>}\n",
            "{'bucketized_user_age': <tf.Tensor: shape=(), dtype=float32, numpy=18.0>, 'movie_genres': <tf.Tensor: shape=(1,), dtype=int64, numpy=array([4], dtype=int64)>, 'movie_id': <tf.Tensor: shape=(), dtype=string, numpy=b'321'>, 'movie_title': <tf.Tensor: shape=(), dtype=string, numpy=b'Mother (1996)'>, 'raw_user_age': <tf.Tensor: shape=(), dtype=float32, numpy=19.0>, 'timestamp': <tf.Tensor: shape=(), dtype=int64, numpy=891548920>, 'user_gender': <tf.Tensor: shape=(), dtype=bool, numpy=False>, 'user_id': <tf.Tensor: shape=(), dtype=string, numpy=b'223'>, 'user_occupation_label': <tf.Tensor: shape=(), dtype=int64, numpy=17>, 'user_occupation_text': <tf.Tensor: shape=(), dtype=string, numpy=b'student'>, 'user_rating': <tf.Tensor: shape=(), dtype=float32, numpy=1.0>, 'user_zip_code': <tf.Tensor: shape=(), dtype=string, numpy=b'47906'>}\n",
            "{'bucketized_user_age': <tf.Tensor: shape=(), dtype=float32, numpy=25.0>, 'movie_genres': <tf.Tensor: shape=(3,), dtype=int64, numpy=array([ 0,  1, 16], dtype=int64)>, 'movie_id': <tf.Tensor: shape=(), dtype=string, numpy=b'930'>, 'movie_title': <tf.Tensor: shape=(), dtype=string, numpy=b'Chain Reaction (1996)'>, 'raw_user_age': <tf.Tensor: shape=(), dtype=float32, numpy=29.0>, 'timestamp': <tf.Tensor: shape=(), dtype=int64, numpy=876348901>, 'user_gender': <tf.Tensor: shape=(), dtype=bool, numpy=True>, 'user_id': <tf.Tensor: shape=(), dtype=string, numpy=b'407'>, 'user_occupation_label': <tf.Tensor: shape=(), dtype=int64, numpy=18>, 'user_occupation_text': <tf.Tensor: shape=(), dtype=string, numpy=b'engineer'>, 'user_rating': <tf.Tensor: shape=(), dtype=float32, numpy=2.0>, 'user_zip_code': <tf.Tensor: shape=(), dtype=string, numpy=b'03261'>}\n",
            "{'bucketized_user_age': <tf.Tensor: shape=(), dtype=float32, numpy=25.0>, 'movie_genres': <tf.Tensor: shape=(2,), dtype=int64, numpy=array([ 7, 14], dtype=int64)>, 'movie_id': <tf.Tensor: shape=(), dtype=string, numpy=b'125'>, 'movie_title': <tf.Tensor: shape=(), dtype=string, numpy=b'Phenomenon (1996)'>, 'raw_user_age': <tf.Tensor: shape=(), dtype=float32, numpy=29.0>, 'timestamp': <tf.Tensor: shape=(), dtype=int64, numpy=880564534>, 'user_gender': <tf.Tensor: shape=(), dtype=bool, numpy=True>, 'user_id': <tf.Tensor: shape=(), dtype=string, numpy=b'109'>, 'user_occupation_label': <tf.Tensor: shape=(), dtype=int64, numpy=11>, 'user_occupation_text': <tf.Tensor: shape=(), dtype=string, numpy=b'other'>, 'user_rating': <tf.Tensor: shape=(), dtype=float32, numpy=5.0>, 'user_zip_code': <tf.Tensor: shape=(), dtype=string, numpy=b'55423'>}\n",
            "{'bucketized_user_age': <tf.Tensor: shape=(), dtype=float32, numpy=35.0>, 'movie_genres': <tf.Tensor: shape=(2,), dtype=int64, numpy=array([ 0, 16], dtype=int64)>, 'movie_id': <tf.Tensor: shape=(), dtype=string, numpy=b'685'>, 'movie_title': <tf.Tensor: shape=(), dtype=string, numpy=b'Executive Decision (1996)'>, 'raw_user_age': <tf.Tensor: shape=(), dtype=float32, numpy=39.0>, 'timestamp': <tf.Tensor: shape=(), dtype=int64, numpy=891445354>, 'user_gender': <tf.Tensor: shape=(), dtype=bool, numpy=True>, 'user_id': <tf.Tensor: shape=(), dtype=string, numpy=b'643'>, 'user_occupation_label': <tf.Tensor: shape=(), dtype=int64, numpy=15>, 'user_occupation_text': <tf.Tensor: shape=(), dtype=string, numpy=b'scientist'>, 'user_rating': <tf.Tensor: shape=(), dtype=float32, numpy=3.0>, 'user_zip_code': <tf.Tensor: shape=(), dtype=string, numpy=b'55122'>}\n",
            "{'bucketized_user_age': <tf.Tensor: shape=(), dtype=float32, numpy=56.0>, 'movie_genres': <tf.Tensor: shape=(2,), dtype=int64, numpy=array([ 4, 14], dtype=int64)>, 'movie_id': <tf.Tensor: shape=(), dtype=string, numpy=b'70'>, 'movie_title': <tf.Tensor: shape=(), dtype=string, numpy=b'Four Weddings and a Funeral (1994)'>, 'raw_user_age': <tf.Tensor: shape=(), dtype=float32, numpy=69.0>, 'timestamp': <tf.Tensor: shape=(), dtype=int64, numpy=891286256>, 'user_gender': <tf.Tensor: shape=(), dtype=bool, numpy=True>, 'user_id': <tf.Tensor: shape=(), dtype=string, numpy=b'585'>, 'user_occupation_label': <tf.Tensor: shape=(), dtype=int64, numpy=10>, 'user_occupation_text': <tf.Tensor: shape=(), dtype=string, numpy=b'librarian'>, 'user_rating': <tf.Tensor: shape=(), dtype=float32, numpy=5.0>, 'user_zip_code': <tf.Tensor: shape=(), dtype=string, numpy=b'98501'>}\n",
            "{'bucketized_user_age': <tf.Tensor: shape=(), dtype=float32, numpy=25.0>, 'movie_genres': <tf.Tensor: shape=(1,), dtype=int64, numpy=array([0], dtype=int64)>, 'movie_id': <tf.Tensor: shape=(), dtype=string, numpy=b'540'>, 'movie_title': <tf.Tensor: shape=(), dtype=string, numpy=b'Money Train (1995)'>, 'raw_user_age': <tf.Tensor: shape=(), dtype=float32, numpy=29.0>, 'timestamp': <tf.Tensor: shape=(), dtype=int64, numpy=878184087>, 'user_gender': <tf.Tensor: shape=(), dtype=bool, numpy=True>, 'user_id': <tf.Tensor: shape=(), dtype=string, numpy=b'222'>, 'user_occupation_label': <tf.Tensor: shape=(), dtype=int64, numpy=12>, 'user_occupation_text': <tf.Tensor: shape=(), dtype=string, numpy=b'programmer'>, 'user_rating': <tf.Tensor: shape=(), dtype=float32, numpy=3.0>, 'user_zip_code': <tf.Tensor: shape=(), dtype=string, numpy=b'27502'>}\n",
            "{'bucketized_user_age': <tf.Tensor: shape=(), dtype=float32, numpy=18.0>, 'movie_genres': <tf.Tensor: shape=(2,), dtype=int64, numpy=array([ 0, 16], dtype=int64)>, 'movie_id': <tf.Tensor: shape=(), dtype=string, numpy=b'147'>, 'movie_title': <tf.Tensor: shape=(), dtype=string, numpy=b'Long Kiss Goodnight, The (1996)'>, 'raw_user_age': <tf.Tensor: shape=(), dtype=float32, numpy=19.0>, 'timestamp': <tf.Tensor: shape=(), dtype=int64, numpy=879792557>, 'user_gender': <tf.Tensor: shape=(), dtype=bool, numpy=True>, 'user_id': <tf.Tensor: shape=(), dtype=string, numpy=b'624'>, 'user_occupation_label': <tf.Tensor: shape=(), dtype=int64, numpy=17>, 'user_occupation_text': <tf.Tensor: shape=(), dtype=string, numpy=b'student'>, 'user_rating': <tf.Tensor: shape=(), dtype=float32, numpy=4.0>, 'user_zip_code': <tf.Tensor: shape=(), dtype=string, numpy=b'30067'>}\n",
            "{'bucketized_user_age': <tf.Tensor: shape=(), dtype=float32, numpy=35.0>, 'movie_genres': <tf.Tensor: shape=(1,), dtype=int64, numpy=array([7], dtype=int64)>, 'movie_id': <tf.Tensor: shape=(), dtype=string, numpy=b'427'>, 'movie_title': <tf.Tensor: shape=(), dtype=string, numpy=b'To Kill a Mockingbird (1962)'>, 'raw_user_age': <tf.Tensor: shape=(), dtype=float32, numpy=35.0>, 'timestamp': <tf.Tensor: shape=(), dtype=int64, numpy=876546920>, 'user_gender': <tf.Tensor: shape=(), dtype=bool, numpy=False>, 'user_id': <tf.Tensor: shape=(), dtype=string, numpy=b'330'>, 'user_occupation_label': <tf.Tensor: shape=(), dtype=int64, numpy=0>, 'user_occupation_text': <tf.Tensor: shape=(), dtype=string, numpy=b'educator'>, 'user_rating': <tf.Tensor: shape=(), dtype=float32, numpy=5.0>, 'user_zip_code': <tf.Tensor: shape=(), dtype=string, numpy=b'33884'>}\n",
            "{'bucketized_user_age': <tf.Tensor: shape=(), dtype=float32, numpy=18.0>, 'movie_genres': <tf.Tensor: shape=(4,), dtype=int64, numpy=array([ 0, 10, 15, 16], dtype=int64)>, 'movie_id': <tf.Tensor: shape=(), dtype=string, numpy=b'665'>, 'movie_title': <tf.Tensor: shape=(), dtype=string, numpy=b'Alien 3 (1992)'>, 'raw_user_age': <tf.Tensor: shape=(), dtype=float32, numpy=20.0>, 'timestamp': <tf.Tensor: shape=(), dtype=int64, numpy=879310966>, 'user_gender': <tf.Tensor: shape=(), dtype=bool, numpy=True>, 'user_id': <tf.Tensor: shape=(), dtype=string, numpy=b'497'>, 'user_occupation_label': <tf.Tensor: shape=(), dtype=int64, numpy=17>, 'user_occupation_text': <tf.Tensor: shape=(), dtype=string, numpy=b'student'>, 'user_rating': <tf.Tensor: shape=(), dtype=float32, numpy=2.0>, 'user_zip_code': <tf.Tensor: shape=(), dtype=string, numpy=b'50112'>}\n",
            "{'bucketized_user_age': <tf.Tensor: shape=(), dtype=float32, numpy=25.0>, 'movie_genres': <tf.Tensor: shape=(3,), dtype=int64, numpy=array([ 4, 13, 16], dtype=int64)>, 'movie_id': <tf.Tensor: shape=(), dtype=string, numpy=b'659'>, 'movie_title': <tf.Tensor: shape=(), dtype=string, numpy=b'Arsenic and Old Lace (1944)'>, 'raw_user_age': <tf.Tensor: shape=(), dtype=float32, numpy=30.0>, 'timestamp': <tf.Tensor: shape=(), dtype=int64, numpy=876526518>, 'user_gender': <tf.Tensor: shape=(), dtype=bool, numpy=True>, 'user_id': <tf.Tensor: shape=(), dtype=string, numpy=b'664'>, 'user_occupation_label': <tf.Tensor: shape=(), dtype=int64, numpy=18>, 'user_occupation_text': <tf.Tensor: shape=(), dtype=string, numpy=b'engineer'>, 'user_rating': <tf.Tensor: shape=(), dtype=float32, numpy=5.0>, 'user_zip_code': <tf.Tensor: shape=(), dtype=string, numpy=b'94115'>}\n",
            "{'bucketized_user_age': <tf.Tensor: shape=(), dtype=float32, numpy=50.0>, 'movie_genres': <tf.Tensor: shape=(2,), dtype=int64, numpy=array([ 7, 14], dtype=int64)>, 'movie_id': <tf.Tensor: shape=(), dtype=string, numpy=b'197'>, 'movie_title': <tf.Tensor: shape=(), dtype=string, numpy=b'Graduate, The (1967)'>, 'raw_user_age': <tf.Tensor: shape=(), dtype=float32, numpy=54.0>, 'timestamp': <tf.Tensor: shape=(), dtype=int64, numpy=891388286>, 'user_gender': <tf.Tensor: shape=(), dtype=bool, numpy=True>, 'user_id': <tf.Tensor: shape=(), dtype=string, numpy=b'121'>, 'user_occupation_label': <tf.Tensor: shape=(), dtype=int64, numpy=10>, 'user_occupation_text': <tf.Tensor: shape=(), dtype=string, numpy=b'librarian'>, 'user_rating': <tf.Tensor: shape=(), dtype=float32, numpy=4.0>, 'user_zip_code': <tf.Tensor: shape=(), dtype=string, numpy=b'99603'>}\n",
            "{'bucketized_user_age': <tf.Tensor: shape=(), dtype=float32, numpy=25.0>, 'movie_genres': <tf.Tensor: shape=(2,), dtype=int64, numpy=array([ 7, 14], dtype=int64)>, 'movie_id': <tf.Tensor: shape=(), dtype=string, numpy=b'253'>, 'movie_title': <tf.Tensor: shape=(), dtype=string, numpy=b'Pillow Book, The (1995)'>, 'raw_user_age': <tf.Tensor: shape=(), dtype=float32, numpy=27.0>, 'timestamp': <tf.Tensor: shape=(), dtype=int64, numpy=880672855>, 'user_gender': <tf.Tensor: shape=(), dtype=bool, numpy=True>, 'user_id': <tf.Tensor: shape=(), dtype=string, numpy=b'758'>, 'user_occupation_label': <tf.Tensor: shape=(), dtype=int64, numpy=17>, 'user_occupation_text': <tf.Tensor: shape=(), dtype=string, numpy=b'student'>, 'user_rating': <tf.Tensor: shape=(), dtype=float32, numpy=5.0>, 'user_zip_code': <tf.Tensor: shape=(), dtype=string, numpy=b'53706'>}\n",
            "{'bucketized_user_age': <tf.Tensor: shape=(), dtype=float32, numpy=45.0>, 'movie_genres': <tf.Tensor: shape=(1,), dtype=int64, numpy=array([7], dtype=int64)>, 'movie_id': <tf.Tensor: shape=(), dtype=string, numpy=b'15'>, 'movie_title': <tf.Tensor: shape=(), dtype=string, numpy=b\"Mr. Holland's Opus (1995)\">, 'raw_user_age': <tf.Tensor: shape=(), dtype=float32, numpy=49.0>, 'timestamp': <tf.Tensor: shape=(), dtype=int64, numpy=891386369>, 'user_gender': <tf.Tensor: shape=(), dtype=bool, numpy=True>, 'user_id': <tf.Tensor: shape=(), dtype=string, numpy=b'26'>, 'user_occupation_label': <tf.Tensor: shape=(), dtype=int64, numpy=18>, 'user_occupation_text': <tf.Tensor: shape=(), dtype=string, numpy=b'engineer'>, 'user_rating': <tf.Tensor: shape=(), dtype=float32, numpy=4.0>, 'user_zip_code': <tf.Tensor: shape=(), dtype=string, numpy=b'21044'>}\n",
            "{'bucketized_user_age': <tf.Tensor: shape=(), dtype=float32, numpy=45.0>, 'movie_genres': <tf.Tensor: shape=(2,), dtype=int64, numpy=array([ 7, 14], dtype=int64)>, 'movie_id': <tf.Tensor: shape=(), dtype=string, numpy=b'268'>, 'movie_title': <tf.Tensor: shape=(), dtype=string, numpy=b'Chasing Amy (1997)'>, 'raw_user_age': <tf.Tensor: shape=(), dtype=float32, numpy=47.0>, 'timestamp': <tf.Tensor: shape=(), dtype=int64, numpy=875935609>, 'user_gender': <tf.Tensor: shape=(), dtype=bool, numpy=True>, 'user_id': <tf.Tensor: shape=(), dtype=string, numpy=b'113'>, 'user_occupation_label': <tf.Tensor: shape=(), dtype=int64, numpy=6>, 'user_occupation_text': <tf.Tensor: shape=(), dtype=string, numpy=b'executive'>, 'user_rating': <tf.Tensor: shape=(), dtype=float32, numpy=4.0>, 'user_zip_code': <tf.Tensor: shape=(), dtype=string, numpy=b'95032'>}\n",
            "{'bucketized_user_age': <tf.Tensor: shape=(), dtype=float32, numpy=25.0>, 'movie_genres': <tf.Tensor: shape=(3,), dtype=int64, numpy=array([ 0,  4, 19], dtype=int64)>, 'movie_id': <tf.Tensor: shape=(), dtype=string, numpy=b'435'>, 'movie_title': <tf.Tensor: shape=(), dtype=string, numpy=b'Butch Cassidy and the Sundance Kid (1969)'>, 'raw_user_age': <tf.Tensor: shape=(), dtype=float32, numpy=28.0>, 'timestamp': <tf.Tensor: shape=(), dtype=int64, numpy=878761717>, 'user_gender': <tf.Tensor: shape=(), dtype=bool, numpy=True>, 'user_id': <tf.Tensor: shape=(), dtype=string, numpy=b'684'>, 'user_occupation_label': <tf.Tensor: shape=(), dtype=int64, numpy=17>, 'user_occupation_text': <tf.Tensor: shape=(), dtype=string, numpy=b'student'>, 'user_rating': <tf.Tensor: shape=(), dtype=float32, numpy=3.0>, 'user_zip_code': <tf.Tensor: shape=(), dtype=string, numpy=b'55414'>}\n",
            "{'bucketized_user_age': <tf.Tensor: shape=(), dtype=float32, numpy=25.0>, 'movie_genres': <tf.Tensor: shape=(1,), dtype=int64, numpy=array([4], dtype=int64)>, 'movie_id': <tf.Tensor: shape=(), dtype=string, numpy=b'428'>, 'movie_title': <tf.Tensor: shape=(), dtype=string, numpy=b'Harold and Maude (1971)'>, 'raw_user_age': <tf.Tensor: shape=(), dtype=float32, numpy=27.0>, 'timestamp': <tf.Tensor: shape=(), dtype=int64, numpy=892054684>, 'user_gender': <tf.Tensor: shape=(), dtype=bool, numpy=True>, 'user_id': <tf.Tensor: shape=(), dtype=string, numpy=b'645'>, 'user_occupation_label': <tf.Tensor: shape=(), dtype=int64, numpy=12>, 'user_occupation_text': <tf.Tensor: shape=(), dtype=string, numpy=b'programmer'>, 'user_rating': <tf.Tensor: shape=(), dtype=float32, numpy=4.0>, 'user_zip_code': <tf.Tensor: shape=(), dtype=string, numpy=b'53211'>}\n",
            "{'bucketized_user_age': <tf.Tensor: shape=(), dtype=float32, numpy=56.0>, 'movie_genres': <tf.Tensor: shape=(1,), dtype=int64, numpy=array([4], dtype=int64)>, 'movie_id': <tf.Tensor: shape=(), dtype=string, numpy=b'476'>, 'movie_title': <tf.Tensor: shape=(), dtype=string, numpy=b'First Wives Club, The (1996)'>, 'raw_user_age': <tf.Tensor: shape=(), dtype=float32, numpy=65.0>, 'timestamp': <tf.Tensor: shape=(), dtype=int64, numpy=884495164>, 'user_gender': <tf.Tensor: shape=(), dtype=bool, numpy=True>, 'user_id': <tf.Tensor: shape=(), dtype=string, numpy=b'318'>, 'user_occupation_label': <tf.Tensor: shape=(), dtype=int64, numpy=13>, 'user_occupation_text': <tf.Tensor: shape=(), dtype=string, numpy=b'retired'>, 'user_rating': <tf.Tensor: shape=(), dtype=float32, numpy=4.0>, 'user_zip_code': <tf.Tensor: shape=(), dtype=string, numpy=b'06518'>}\n",
            "{'bucketized_user_age': <tf.Tensor: shape=(), dtype=float32, numpy=25.0>, 'movie_genres': <tf.Tensor: shape=(1,), dtype=int64, numpy=array([14], dtype=int64)>, 'movie_id': <tf.Tensor: shape=(), dtype=string, numpy=b'872'>, 'movie_title': <tf.Tensor: shape=(), dtype=string, numpy=b'Love Jones (1997)'>, 'raw_user_age': <tf.Tensor: shape=(), dtype=float32, numpy=30.0>, 'timestamp': <tf.Tensor: shape=(), dtype=int64, numpy=884326545>, 'user_gender': <tf.Tensor: shape=(), dtype=bool, numpy=True>, 'user_id': <tf.Tensor: shape=(), dtype=string, numpy=b'783'>, 'user_occupation_label': <tf.Tensor: shape=(), dtype=int64, numpy=14>, 'user_occupation_text': <tf.Tensor: shape=(), dtype=string, numpy=b'marketing'>, 'user_rating': <tf.Tensor: shape=(), dtype=float32, numpy=4.0>, 'user_zip_code': <tf.Tensor: shape=(), dtype=string, numpy=b'77081'>}\n",
            "{'bucketized_user_age': <tf.Tensor: shape=(), dtype=float32, numpy=25.0>, 'movie_genres': <tf.Tensor: shape=(1,), dtype=int64, numpy=array([7], dtype=int64)>, 'movie_id': <tf.Tensor: shape=(), dtype=string, numpy=b'1265'>, 'movie_title': <tf.Tensor: shape=(), dtype=string, numpy=b'Star Maps (1997)'>, 'raw_user_age': <tf.Tensor: shape=(), dtype=float32, numpy=30.0>, 'timestamp': <tf.Tensor: shape=(), dtype=int64, numpy=891548567>, 'user_gender': <tf.Tensor: shape=(), dtype=bool, numpy=True>, 'user_id': <tf.Tensor: shape=(), dtype=string, numpy=b'440'>, 'user_occupation_label': <tf.Tensor: shape=(), dtype=int64, numpy=11>, 'user_occupation_text': <tf.Tensor: shape=(), dtype=string, numpy=b'other'>, 'user_rating': <tf.Tensor: shape=(), dtype=float32, numpy=5.0>, 'user_zip_code': <tf.Tensor: shape=(), dtype=string, numpy=b'48076'>}\n",
            "{'bucketized_user_age': <tf.Tensor: shape=(), dtype=float32, numpy=35.0>, 'movie_genres': <tf.Tensor: shape=(2,), dtype=int64, numpy=array([ 7, 18], dtype=int64)>, 'movie_id': <tf.Tensor: shape=(), dtype=string, numpy=b'180'>, 'movie_title': <tf.Tensor: shape=(), dtype=string, numpy=b'Apocalypse Now (1979)'>, 'raw_user_age': <tf.Tensor: shape=(), dtype=float32, numpy=38.0>, 'timestamp': <tf.Tensor: shape=(), dtype=int64, numpy=879521657>, 'user_gender': <tf.Tensor: shape=(), dtype=bool, numpy=True>, 'user_id': <tf.Tensor: shape=(), dtype=string, numpy=b'194'>, 'user_occupation_label': <tf.Tensor: shape=(), dtype=int64, numpy=2>, 'user_occupation_text': <tf.Tensor: shape=(), dtype=string, numpy=b'administrator'>, 'user_rating': <tf.Tensor: shape=(), dtype=float32, numpy=3.0>, 'user_zip_code': <tf.Tensor: shape=(), dtype=string, numpy=b'02154'>}\n",
            "{'bucketized_user_age': <tf.Tensor: shape=(), dtype=float32, numpy=18.0>, 'movie_genres': <tf.Tensor: shape=(2,), dtype=int64, numpy=array([ 7, 16], dtype=int64)>, 'movie_id': <tf.Tensor: shape=(), dtype=string, numpy=b'23'>, 'movie_title': <tf.Tensor: shape=(), dtype=string, numpy=b'Taxi Driver (1976)'>, 'raw_user_age': <tf.Tensor: shape=(), dtype=float32, numpy=20.0>, 'timestamp': <tf.Tensor: shape=(), dtype=int64, numpy=875027355>, 'user_gender': <tf.Tensor: shape=(), dtype=bool, numpy=True>, 'user_id': <tf.Tensor: shape=(), dtype=string, numpy=b'76'>, 'user_occupation_label': <tf.Tensor: shape=(), dtype=int64, numpy=17>, 'user_occupation_text': <tf.Tensor: shape=(), dtype=string, numpy=b'student'>, 'user_rating': <tf.Tensor: shape=(), dtype=float32, numpy=5.0>, 'user_zip_code': <tf.Tensor: shape=(), dtype=string, numpy=b'02215'>}\n",
            "{'bucketized_user_age': <tf.Tensor: shape=(), dtype=float32, numpy=25.0>, 'movie_genres': <tf.Tensor: shape=(1,), dtype=int64, numpy=array([4], dtype=int64)>, 'movie_id': <tf.Tensor: shape=(), dtype=string, numpy=b'13'>, 'movie_title': <tf.Tensor: shape=(), dtype=string, numpy=b'Mighty Aphrodite (1995)'>, 'raw_user_age': <tf.Tensor: shape=(), dtype=float32, numpy=27.0>, 'timestamp': <tf.Tensor: shape=(), dtype=int64, numpy=879372634>, 'user_gender': <tf.Tensor: shape=(), dtype=bool, numpy=False>, 'user_id': <tf.Tensor: shape=(), dtype=string, numpy=b'62'>, 'user_occupation_label': <tf.Tensor: shape=(), dtype=int64, numpy=2>, 'user_occupation_text': <tf.Tensor: shape=(), dtype=string, numpy=b'administrator'>, 'user_rating': <tf.Tensor: shape=(), dtype=float32, numpy=4.0>, 'user_zip_code': <tf.Tensor: shape=(), dtype=string, numpy=b'97214'>}\n",
            "{'bucketized_user_age': <tf.Tensor: shape=(), dtype=float32, numpy=18.0>, 'movie_genres': <tf.Tensor: shape=(2,), dtype=int64, numpy=array([ 7, 18], dtype=int64)>, 'movie_id': <tf.Tensor: shape=(), dtype=string, numpy=b'471'>, 'movie_title': <tf.Tensor: shape=(), dtype=string, numpy=b'Courage Under Fire (1996)'>, 'raw_user_age': <tf.Tensor: shape=(), dtype=float32, numpy=22.0>, 'timestamp': <tf.Tensor: shape=(), dtype=int64, numpy=875502042>, 'user_gender': <tf.Tensor: shape=(), dtype=bool, numpy=True>, 'user_id': <tf.Tensor: shape=(), dtype=string, numpy=b'943'>, 'user_occupation_label': <tf.Tensor: shape=(), dtype=int64, numpy=17>, 'user_occupation_text': <tf.Tensor: shape=(), dtype=string, numpy=b'student'>, 'user_rating': <tf.Tensor: shape=(), dtype=float32, numpy=5.0>, 'user_zip_code': <tf.Tensor: shape=(), dtype=string, numpy=b'77841'>}\n",
            "{'bucketized_user_age': <tf.Tensor: shape=(), dtype=float32, numpy=25.0>, 'movie_genres': <tf.Tensor: shape=(2,), dtype=int64, numpy=array([ 4, 18], dtype=int64)>, 'movie_id': <tf.Tensor: shape=(), dtype=string, numpy=b'211'>, 'movie_title': <tf.Tensor: shape=(), dtype=string, numpy=b'M*A*S*H (1970)'>, 'raw_user_age': <tf.Tensor: shape=(), dtype=float32, numpy=27.0>, 'timestamp': <tf.Tensor: shape=(), dtype=int64, numpy=879900586>, 'user_gender': <tf.Tensor: shape=(), dtype=bool, numpy=True>, 'user_id': <tf.Tensor: shape=(), dtype=string, numpy=b'545'>, 'user_occupation_label': <tf.Tensor: shape=(), dtype=int64, numpy=18>, 'user_occupation_text': <tf.Tensor: shape=(), dtype=string, numpy=b'technician'>, 'user_rating': <tf.Tensor: shape=(), dtype=float32, numpy=3.0>, 'user_zip_code': <tf.Tensor: shape=(), dtype=string, numpy=b'08052'>}\n",
            "{'bucketized_user_age': <tf.Tensor: shape=(), dtype=float32, numpy=25.0>, 'movie_genres': <tf.Tensor: shape=(2,), dtype=int64, numpy=array([ 7, 13], dtype=int64)>, 'movie_id': <tf.Tensor: shape=(), dtype=string, numpy=b'124'>, 'movie_title': <tf.Tensor: shape=(), dtype=string, numpy=b'Lone Star (1996)'>, 'raw_user_age': <tf.Tensor: shape=(), dtype=float32, numpy=26.0>, 'timestamp': <tf.Tensor: shape=(), dtype=int64, numpy=889492390>, 'user_gender': <tf.Tensor: shape=(), dtype=bool, numpy=True>, 'user_id': <tf.Tensor: shape=(), dtype=string, numpy=b'663'>, 'user_occupation_label': <tf.Tensor: shape=(), dtype=int64, numpy=11>, 'user_occupation_text': <tf.Tensor: shape=(), dtype=string, numpy=b'other'>, 'user_rating': <tf.Tensor: shape=(), dtype=float32, numpy=3.0>, 'user_zip_code': <tf.Tensor: shape=(), dtype=string, numpy=b'19341'>}\n",
            "{'bucketized_user_age': <tf.Tensor: shape=(), dtype=float32, numpy=18.0>, 'movie_genres': <tf.Tensor: shape=(1,), dtype=int64, numpy=array([7], dtype=int64)>, 'movie_id': <tf.Tensor: shape=(), dtype=string, numpy=b'297'>, 'movie_title': <tf.Tensor: shape=(), dtype=string, numpy=b\"Ulee's Gold (1997)\">, 'raw_user_age': <tf.Tensor: shape=(), dtype=float32, numpy=20.0>, 'timestamp': <tf.Tensor: shape=(), dtype=int64, numpy=879538275>, 'user_gender': <tf.Tensor: shape=(), dtype=bool, numpy=True>, 'user_id': <tf.Tensor: shape=(), dtype=string, numpy=b'139'>, 'user_occupation_label': <tf.Tensor: shape=(), dtype=int64, numpy=17>, 'user_occupation_text': <tf.Tensor: shape=(), dtype=string, numpy=b'student'>, 'user_rating': <tf.Tensor: shape=(), dtype=float32, numpy=5.0>, 'user_zip_code': <tf.Tensor: shape=(), dtype=string, numpy=b'08904'>}\n",
            "{'bucketized_user_age': <tf.Tensor: shape=(), dtype=float32, numpy=18.0>, 'movie_genres': <tf.Tensor: shape=(3,), dtype=int64, numpy=array([ 0,  1, 15], dtype=int64)>, 'movie_id': <tf.Tensor: shape=(), dtype=string, numpy=b'222'>, 'movie_title': <tf.Tensor: shape=(), dtype=string, numpy=b'Star Trek: First Contact (1996)'>, 'raw_user_age': <tf.Tensor: shape=(), dtype=float32, numpy=24.0>, 'timestamp': <tf.Tensor: shape=(), dtype=int64, numpy=884132027>, 'user_gender': <tf.Tensor: shape=(), dtype=bool, numpy=True>, 'user_id': <tf.Tensor: shape=(), dtype=string, numpy=b'435'>, 'user_occupation_label': <tf.Tensor: shape=(), dtype=int64, numpy=18>, 'user_occupation_text': <tf.Tensor: shape=(), dtype=string, numpy=b'engineer'>, 'user_rating': <tf.Tensor: shape=(), dtype=float32, numpy=3.0>, 'user_zip_code': <tf.Tensor: shape=(), dtype=string, numpy=b'60007'>}\n",
            "{'bucketized_user_age': <tf.Tensor: shape=(), dtype=float32, numpy=25.0>, 'movie_genres': <tf.Tensor: shape=(1,), dtype=int64, numpy=array([4], dtype=int64)>, 'movie_id': <tf.Tensor: shape=(), dtype=string, numpy=b'67'>, 'movie_title': <tf.Tensor: shape=(), dtype=string, numpy=b'Ace Ventura: Pet Detective (1994)'>, 'raw_user_age': <tf.Tensor: shape=(), dtype=float32, numpy=27.0>, 'timestamp': <tf.Tensor: shape=(), dtype=int64, numpy=880952837>, 'user_gender': <tf.Tensor: shape=(), dtype=bool, numpy=False>, 'user_id': <tf.Tensor: shape=(), dtype=string, numpy=b'417'>, 'user_occupation_label': <tf.Tensor: shape=(), dtype=int64, numpy=11>, 'user_occupation_text': <tf.Tensor: shape=(), dtype=string, numpy=b'other'>, 'user_rating': <tf.Tensor: shape=(), dtype=float32, numpy=4.0>, 'user_zip_code': <tf.Tensor: shape=(), dtype=string, numpy=b'48103'>}\n",
            "{'bucketized_user_age': <tf.Tensor: shape=(), dtype=float32, numpy=35.0>, 'movie_genres': <tf.Tensor: shape=(2,), dtype=int64, numpy=array([ 7, 16], dtype=int64)>, 'movie_id': <tf.Tensor: shape=(), dtype=string, numpy=b'43'>, 'movie_title': <tf.Tensor: shape=(), dtype=string, numpy=b'Disclosure (1994)'>, 'raw_user_age': <tf.Tensor: shape=(), dtype=float32, numpy=40.0>, 'timestamp': <tf.Tensor: shape=(), dtype=int64, numpy=880475783>, 'user_gender': <tf.Tensor: shape=(), dtype=bool, numpy=True>, 'user_id': <tf.Tensor: shape=(), dtype=string, numpy=b'290'>, 'user_occupation_label': <tf.Tensor: shape=(), dtype=int64, numpy=18>, 'user_occupation_text': <tf.Tensor: shape=(), dtype=string, numpy=b'engineer'>, 'user_rating': <tf.Tensor: shape=(), dtype=float32, numpy=3.0>, 'user_zip_code': <tf.Tensor: shape=(), dtype=string, numpy=b'93550'>}\n",
            "{'bucketized_user_age': <tf.Tensor: shape=(), dtype=float32, numpy=25.0>, 'movie_genres': <tf.Tensor: shape=(4,), dtype=int64, numpy=array([ 0,  1, 15, 16], dtype=int64)>, 'movie_id': <tf.Tensor: shape=(), dtype=string, numpy=b'252'>, 'movie_title': <tf.Tensor: shape=(), dtype=string, numpy=b'Lost World: Jurassic Park, The (1997)'>, 'raw_user_age': <tf.Tensor: shape=(), dtype=float32, numpy=26.0>, 'timestamp': <tf.Tensor: shape=(), dtype=int64, numpy=880261185>, 'user_gender': <tf.Tensor: shape=(), dtype=bool, numpy=False>, 'user_id': <tf.Tensor: shape=(), dtype=string, numpy=b'939'>, 'user_occupation_label': <tf.Tensor: shape=(), dtype=int64, numpy=17>, 'user_occupation_text': <tf.Tensor: shape=(), dtype=string, numpy=b'student'>, 'user_rating': <tf.Tensor: shape=(), dtype=float32, numpy=3.0>, 'user_zip_code': <tf.Tensor: shape=(), dtype=string, numpy=b'33319'>}\n",
            "{'bucketized_user_age': <tf.Tensor: shape=(), dtype=float32, numpy=18.0>, 'movie_genres': <tf.Tensor: shape=(3,), dtype=int64, numpy=array([ 7, 14, 18], dtype=int64)>, 'movie_id': <tf.Tensor: shape=(), dtype=string, numpy=b'286'>, 'movie_title': <tf.Tensor: shape=(), dtype=string, numpy=b'English Patient, The (1996)'>, 'raw_user_age': <tf.Tensor: shape=(), dtype=float32, numpy=22.0>, 'timestamp': <tf.Tensor: shape=(), dtype=int64, numpy=887954853>, 'user_gender': <tf.Tensor: shape=(), dtype=bool, numpy=True>, 'user_id': <tf.Tensor: shape=(), dtype=string, numpy=b'820'>, 'user_occupation_label': <tf.Tensor: shape=(), dtype=int64, numpy=17>, 'user_occupation_text': <tf.Tensor: shape=(), dtype=string, numpy=b'student'>, 'user_rating': <tf.Tensor: shape=(), dtype=float32, numpy=4.0>, 'user_zip_code': <tf.Tensor: shape=(), dtype=string, numpy=b'37725'>}\n",
            "{'bucketized_user_age': <tf.Tensor: shape=(), dtype=float32, numpy=25.0>, 'movie_genres': <tf.Tensor: shape=(2,), dtype=int64, numpy=array([ 7, 14], dtype=int64)>, 'movie_id': <tf.Tensor: shape=(), dtype=string, numpy=b'724'>, 'movie_title': <tf.Tensor: shape=(), dtype=string, numpy=b'Circle of Friends (1995)'>, 'raw_user_age': <tf.Tensor: shape=(), dtype=float32, numpy=29.0>, 'timestamp': <tf.Tensor: shape=(), dtype=int64, numpy=875238883>, 'user_gender': <tf.Tensor: shape=(), dtype=bool, numpy=False>, 'user_id': <tf.Tensor: shape=(), dtype=string, numpy=b'297'>, 'user_occupation_label': <tf.Tensor: shape=(), dtype=int64, numpy=0>, 'user_occupation_text': <tf.Tensor: shape=(), dtype=string, numpy=b'educator'>, 'user_rating': <tf.Tensor: shape=(), dtype=float32, numpy=3.0>, 'user_zip_code': <tf.Tensor: shape=(), dtype=string, numpy=b'98103'>}\n",
            "{'bucketized_user_age': <tf.Tensor: shape=(), dtype=float32, numpy=18.0>, 'movie_genres': <tf.Tensor: shape=(3,), dtype=int64, numpy=array([ 0,  5, 16], dtype=int64)>, 'movie_id': <tf.Tensor: shape=(), dtype=string, numpy=b'273'>, 'movie_title': <tf.Tensor: shape=(), dtype=string, numpy=b'Heat (1995)'>, 'raw_user_age': <tf.Tensor: shape=(), dtype=float32, numpy=22.0>, 'timestamp': <tf.Tensor: shape=(), dtype=int64, numpy=883390328>, 'user_gender': <tf.Tensor: shape=(), dtype=bool, numpy=True>, 'user_id': <tf.Tensor: shape=(), dtype=string, numpy=b'442'>, 'user_occupation_label': <tf.Tensor: shape=(), dtype=int64, numpy=17>, 'user_occupation_text': <tf.Tensor: shape=(), dtype=string, numpy=b'student'>, 'user_rating': <tf.Tensor: shape=(), dtype=float32, numpy=4.0>, 'user_zip_code': <tf.Tensor: shape=(), dtype=string, numpy=b'85282'>}\n",
            "{'bucketized_user_age': <tf.Tensor: shape=(), dtype=float32, numpy=18.0>, 'movie_genres': <tf.Tensor: shape=(3,), dtype=int64, numpy=array([ 7, 16, 18], dtype=int64)>, 'movie_id': <tf.Tensor: shape=(), dtype=string, numpy=b'31'>, 'movie_title': <tf.Tensor: shape=(), dtype=string, numpy=b'Crimson Tide (1995)'>, 'raw_user_age': <tf.Tensor: shape=(), dtype=float32, numpy=19.0>, 'timestamp': <tf.Tensor: shape=(), dtype=int64, numpy=879467361>, 'user_gender': <tf.Tensor: shape=(), dtype=bool, numpy=True>, 'user_id': <tf.Tensor: shape=(), dtype=string, numpy=b'303'>, 'user_occupation_label': <tf.Tensor: shape=(), dtype=int64, numpy=17>, 'user_occupation_text': <tf.Tensor: shape=(), dtype=string, numpy=b'student'>, 'user_rating': <tf.Tensor: shape=(), dtype=float32, numpy=3.0>, 'user_zip_code': <tf.Tensor: shape=(), dtype=string, numpy=b'14853'>}\n",
            "{'bucketized_user_age': <tf.Tensor: shape=(), dtype=float32, numpy=18.0>, 'movie_genres': <tf.Tensor: shape=(4,), dtype=int64, numpy=array([ 0,  7, 16, 18], dtype=int64)>, 'movie_id': <tf.Tensor: shape=(), dtype=string, numpy=b'245'>, 'movie_title': <tf.Tensor: shape=(), dtype=string, numpy=b\"Devil's Own, The (1997)\">, 'raw_user_age': <tf.Tensor: shape=(), dtype=float32, numpy=24.0>, 'timestamp': <tf.Tensor: shape=(), dtype=int64, numpy=888259984>, 'user_gender': <tf.Tensor: shape=(), dtype=bool, numpy=True>, 'user_id': <tf.Tensor: shape=(), dtype=string, numpy=b'832'>, 'user_occupation_label': <tf.Tensor: shape=(), dtype=int64, numpy=18>, 'user_occupation_text': <tf.Tensor: shape=(), dtype=string, numpy=b'technician'>, 'user_rating': <tf.Tensor: shape=(), dtype=float32, numpy=3.0>, 'user_zip_code': <tf.Tensor: shape=(), dtype=string, numpy=b'77042'>}\n",
            "{'bucketized_user_age': <tf.Tensor: shape=(), dtype=float32, numpy=35.0>, 'movie_genres': <tf.Tensor: shape=(3,), dtype=int64, numpy=array([ 2,  3, 12], dtype=int64)>, 'movie_id': <tf.Tensor: shape=(), dtype=string, numpy=b'596'>, 'movie_title': <tf.Tensor: shape=(), dtype=string, numpy=b'Hunchback of Notre Dame, The (1996)'>, 'raw_user_age': <tf.Tensor: shape=(), dtype=float32, numpy=35.0>, 'timestamp': <tf.Tensor: shape=(), dtype=int64, numpy=876544690>, 'user_gender': <tf.Tensor: shape=(), dtype=bool, numpy=False>, 'user_id': <tf.Tensor: shape=(), dtype=string, numpy=b'330'>, 'user_occupation_label': <tf.Tensor: shape=(), dtype=int64, numpy=0>, 'user_occupation_text': <tf.Tensor: shape=(), dtype=string, numpy=b'educator'>, 'user_rating': <tf.Tensor: shape=(), dtype=float32, numpy=5.0>, 'user_zip_code': <tf.Tensor: shape=(), dtype=string, numpy=b'33884'>}\n",
            "{'bucketized_user_age': <tf.Tensor: shape=(), dtype=float32, numpy=25.0>, 'movie_genres': <tf.Tensor: shape=(1,), dtype=int64, numpy=array([7], dtype=int64)>, 'movie_id': <tf.Tensor: shape=(), dtype=string, numpy=b'1045'>, 'movie_title': <tf.Tensor: shape=(), dtype=string, numpy=b'Fearless (1993)'>, 'raw_user_age': <tf.Tensor: shape=(), dtype=float32, numpy=32.0>, 'timestamp': <tf.Tensor: shape=(), dtype=int64, numpy=879270605>, 'user_gender': <tf.Tensor: shape=(), dtype=bool, numpy=False>, 'user_id': <tf.Tensor: shape=(), dtype=string, numpy=b'122'>, 'user_occupation_label': <tf.Tensor: shape=(), dtype=int64, numpy=21>, 'user_occupation_text': <tf.Tensor: shape=(), dtype=string, numpy=b'writer'>, 'user_rating': <tf.Tensor: shape=(), dtype=float32, numpy=4.0>, 'user_zip_code': <tf.Tensor: shape=(), dtype=string, numpy=b'22206'>}\n",
            "{'bucketized_user_age': <tf.Tensor: shape=(), dtype=float32, numpy=56.0>, 'movie_genres': <tf.Tensor: shape=(3,), dtype=int64, numpy=array([ 0,  7, 19], dtype=int64)>, 'movie_id': <tf.Tensor: shape=(), dtype=string, numpy=b'510'>, 'movie_title': <tf.Tensor: shape=(), dtype=string, numpy=b'Magnificent Seven, The (1954)'>, 'raw_user_age': <tf.Tensor: shape=(), dtype=float32, numpy=57.0>, 'timestamp': <tf.Tensor: shape=(), dtype=int64, numpy=891352134>, 'user_gender': <tf.Tensor: shape=(), dtype=bool, numpy=True>, 'user_id': <tf.Tensor: shape=(), dtype=string, numpy=b'7'>, 'user_occupation_label': <tf.Tensor: shape=(), dtype=int64, numpy=2>, 'user_occupation_text': <tf.Tensor: shape=(), dtype=string, numpy=b'administrator'>, 'user_rating': <tf.Tensor: shape=(), dtype=float32, numpy=5.0>, 'user_zip_code': <tf.Tensor: shape=(), dtype=string, numpy=b'91344'>}\n"
          ]
        }
      ],
      "source": [
        "\n",
        "print(type(ratings))\n",
        "count = 0\n",
        "for i in ratings:\n",
        "    print(i)\n",
        "    if count ==100:\n",
        "        break\n",
        "    count+=1\n",
        "# count = 0\n",
        "# for i in movies:\n",
        "#     print(i)\n",
        "#     if count ==100:\n",
        "#         break\n",
        "#     count+=1"
      ]
    },
    {
      "cell_type": "markdown",
      "metadata": {
        "id": "5W0HSfmSNCWm"
      },
      "source": [
        "Build vocabularies to convert user ids and movie titles into integer indices for embedding layers:"
      ]
    },
    {
      "cell_type": "code",
      "execution_count": 10,
      "metadata": {
        "id": "9I1VTEjHzpfX"
      },
      "outputs": [],
      "source": [
        "user_ids_vocabulary = tf.keras.layers.StringLookup(mask_token=None)\n",
        "user_ids_vocabulary.adapt(ratings.map(lambda x: x[\"user_id\"]))\n",
        "\n",
        "movie_titles_vocabulary = tf.keras.layers.StringLookup(mask_token=None)\n",
        "movie_titles_vocabulary.adapt(movies)"
      ]
    },
    {
      "cell_type": "markdown",
      "metadata": {
        "id": "Lrch6rVBOB9Q"
      },
      "source": [
        "### Define a model\n",
        "\n",
        "We can define a TFRS model by inheriting from `tfrs.Model` and implementing the `compute_loss` method:"
      ]
    },
    {
      "cell_type": "code",
      "execution_count": 11,
      "metadata": {
        "id": "e5dNbDZwOIHR"
      },
      "outputs": [],
      "source": [
        "class MovieLensModel(tfrs.Model):\n",
        "  # We derive from a custom base class to help reduce boilerplate. Under the hood,\n",
        "  # these are still plain Keras Models.\n",
        "\n",
        "  def __init__(\n",
        "      self,\n",
        "      user_model: tf.keras.Model,\n",
        "      movie_model: tf.keras.Model,\n",
        "      task: tfrs.tasks.Retrieval):\n",
        "    super().__init__()\n",
        "\n",
        "    # Set up user and movie representations.\n",
        "    self.user_model = user_model\n",
        "    self.movie_model = movie_model\n",
        "\n",
        "    # Set up a retrieval task.\n",
        "    self.task = task\n",
        "\n",
        "  def compute_loss(self, features: Dict[Text, tf.Tensor], training=False) -> tf.Tensor:\n",
        "    # Define how the loss is computed.\n",
        "\n",
        "    user_embeddings = self.user_model(features[\"user_id\"])\n",
        "    movie_embeddings = self.movie_model(features[\"movie_title\"])\n",
        "\n",
        "    return self.task(user_embeddings, movie_embeddings)"
      ]
    },
    {
      "cell_type": "markdown",
      "metadata": {
        "id": "wdwtgUCEOI8y"
      },
      "source": [
        "Define the two models and the retrieval task."
      ]
    },
    {
      "cell_type": "code",
      "execution_count": 12,
      "metadata": {
        "id": "EvtnUN6aUY4U"
      },
      "outputs": [
        {
          "name": "stdout",
          "output_type": "stream",
          "text": [
            "WARNING:tensorflow:vocab_size is deprecated, please use vocabulary_size.\n"
          ]
        },
        {
          "name": "stderr",
          "output_type": "stream",
          "text": [
            "WARNING:tensorflow:vocab_size is deprecated, please use vocabulary_size.\n"
          ]
        },
        {
          "name": "stdout",
          "output_type": "stream",
          "text": [
            "WARNING:tensorflow:vocab_size is deprecated, please use vocabulary_size.\n"
          ]
        },
        {
          "name": "stderr",
          "output_type": "stream",
          "text": [
            "WARNING:tensorflow:vocab_size is deprecated, please use vocabulary_size.\n"
          ]
        }
      ],
      "source": [
        "# Define user and movie models.\n",
        "user_model = tf.keras.Sequential([\n",
        "    user_ids_vocabulary,\n",
        "    tf.keras.layers.Embedding(user_ids_vocabulary.vocab_size(), 64)\n",
        "])\n",
        "movie_model = tf.keras.Sequential([\n",
        "    movie_titles_vocabulary,\n",
        "    tf.keras.layers.Embedding(movie_titles_vocabulary.vocab_size(), 64)\n",
        "])\n",
        "\n",
        "# Define your objectives.\n",
        "task = tfrs.tasks.Retrieval(metrics=tfrs.metrics.FactorizedTopK(\n",
        "    movies.batch(128).map(movie_model)\n",
        "  )\n",
        ")"
      ]
    },
    {
      "cell_type": "markdown",
      "metadata": {
        "id": "BMV0HpzmJGWk"
      },
      "source": [
        "\n",
        "### Fit and evaluate it.\n",
        "\n",
        "Create the model, train it, and generate predictions:\n",
        "\n"
      ]
    },
    {
      "cell_type": "code",
      "execution_count": 13,
      "metadata": {
        "id": "H2tQDhqkOKf1"
      },
      "outputs": [
        {
          "name": "stdout",
          "output_type": "stream",
          "text": [
            "Epoch 1/3\n",
            "25/25 [==============================] - 8s 268ms/step - factorized_top_k/top_1_categorical_accuracy: 9.0000e-05 - factorized_top_k/top_5_categorical_accuracy: 0.0016 - factorized_top_k/top_10_categorical_accuracy: 0.0047 - factorized_top_k/top_50_categorical_accuracy: 0.0452 - factorized_top_k/top_100_categorical_accuracy: 0.0996 - loss: 33090.3706 - regularization_loss: 0.0000e+00 - total_loss: 33090.3706\n",
            "Epoch 2/3\n",
            "25/25 [==============================] - 7s 265ms/step - factorized_top_k/top_1_categorical_accuracy: 1.7000e-04 - factorized_top_k/top_5_categorical_accuracy: 0.0048 - factorized_top_k/top_10_categorical_accuracy: 0.0140 - factorized_top_k/top_50_categorical_accuracy: 0.1045 - factorized_top_k/top_100_categorical_accuracy: 0.2093 - loss: 31012.2811 - regularization_loss: 0.0000e+00 - total_loss: 31012.2811\n",
            "Epoch 3/3\n",
            "25/25 [==============================] - 7s 265ms/step - factorized_top_k/top_1_categorical_accuracy: 3.7000e-04 - factorized_top_k/top_5_categorical_accuracy: 0.0083 - factorized_top_k/top_10_categorical_accuracy: 0.0213 - factorized_top_k/top_50_categorical_accuracy: 0.1428 - factorized_top_k/top_100_categorical_accuracy: 0.2673 - loss: 30421.6110 - regularization_loss: 0.0000e+00 - total_loss: 30421.6110\n",
            "Top 3 recommendations for user 42: [b'Rent-a-Kid (1995)' b'Just Cause (1995)' b'House Arrest (1996)']\n"
          ]
        }
      ],
      "source": [
        "# Create a retrieval model.\n",
        "model = MovieLensModel(user_model, movie_model, task)\n",
        "model.compile(optimizer=tf.keras.optimizers.Adagrad(0.5))\n",
        "\n",
        "# Train for 3 epochs.\n",
        "model.fit(ratings.batch(4096), epochs=3)\n",
        "\n",
        "# Use brute-force search to set up retrieval using the trained representations.\n",
        "index = tfrs.layers.factorized_top_k.BruteForce(model.user_model)\n",
        "index.index_from_dataset(\n",
        "    movies.batch(100).map(lambda title: (title, model.movie_model(title))))\n",
        "\n",
        "# Get some recommendations.\n",
        "_, titles = index(np.array([\"42\"]))\n",
        "print(f\"Top 3 recommendations for user 42: {titles[0, :3]}\")"
      ]
    },
    {
      "cell_type": "code",
      "execution_count": null,
      "metadata": {
        "id": "neJAJVwbReNd"
      },
      "outputs": [],
      "source": []
    }
  ],
  "metadata": {
    "colab": {
      "collapsed_sections": [],
      "name": "quickstart.ipynb",
      "private_outputs": true,
      "provenance": [],
      "toc_visible": true
    },
    "interpreter": {
      "hash": "9cf835102841f8dfb60b47907fa71a55b8493c47514dd57e25b2f57cd271ef6a"
    },
    "kernelspec": {
      "display_name": "Python 3.9.12 ('base')",
      "language": "python",
      "name": "python3"
    },
    "language_info": {
      "codemirror_mode": {
        "name": "ipython",
        "version": 3
      },
      "file_extension": ".py",
      "mimetype": "text/x-python",
      "name": "python",
      "nbconvert_exporter": "python",
      "pygments_lexer": "ipython3",
      "version": "3.9.12"
    }
  },
  "nbformat": 4,
  "nbformat_minor": 0
}
